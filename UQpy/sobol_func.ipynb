{
  "cells": [
    {
      "cell_type": "code",
      "execution_count": null,
      "metadata": {
        "collapsed": false
      },
      "outputs": [],
      "source": [
        "%matplotlib inline"
      ]
    },
    {
      "cell_type": "markdown",
      "metadata": {},
      "source": [
        "\n# Sobol function\n\nThe Sobol function is non-linear function that is commonly used to benchmark uncertainty \nand senstivity analysis methods. Unlike the Ishigami function which has 3 input \nvariables, the Sobol function can have any number of input variables. \n\n\\begin{align}g(x_1, x_2, \\ldots, x_D) := \\prod_{i=1}^{D} \\frac{|4x_i - 2| + a_i}{1 + a_i},\\end{align}\n\nwhere,\n\n\\begin{align}x_i \\sim \\mathcal{U}(0, 1), \\quad a_i \\in \\mathbb{R}.\\end{align}\n\nThis is an example from [1]_, where first order, total order and additionally the second\norder indices are computed.\n\n.. [1] Glen, G., & Isaacs, K. (2012). Estimating Sobol sensitivity indices using correlations. Environmental Modelling and Software, 37, 157\u2013166.\n"
      ]
    },
    {
      "cell_type": "code",
      "execution_count": null,
      "metadata": {
        "collapsed": false
      },
      "outputs": [],
      "source": [
        "import numpy as np\n\nfrom UQpy.run_model.RunModel import RunModel\nfrom UQpy.run_model.model_execution.PythonModel import PythonModel\nfrom UQpy.distributions import Uniform\nfrom UQpy.distributions.collection.JointIndependent import JointIndependent\nfrom UQpy.sensitivity.SobolSensitivity import SobolSensitivity\nfrom UQpy.sensitivity.PostProcess import *\n\nnp.random.seed(123)"
      ]
    },
    {
      "cell_type": "markdown",
      "metadata": {},
      "source": [
        "**Define the model and input distributions**\n\n"
      ]
    },
    {
      "cell_type": "code",
      "execution_count": null,
      "metadata": {
        "collapsed": false
      },
      "outputs": [],
      "source": [
        "# Create Model object\nnum_vars = 6\na_vals = np.array([0.0, 0.5, 3.0, 9.0, 99.0, 99.0])\n\nmodel = PythonModel(\n    model_script=\"local_sobol_func.py\",\n    model_object_name=\"evaluate\",\n    var_names=[\"X_\" + str(i) for i in range(num_vars)],\n    delete_files=True,\n    a_values=a_vals,\n)\n\nrunmodel_obj = RunModel(model=model)\n\n# Define distribution object\ndist_object = JointIndependent([Uniform(0, 1)] * num_vars)"
      ]
    },
    {
      "cell_type": "markdown",
      "metadata": {},
      "source": [
        "**Compute Sobol indices**\n\n"
      ]
    },
    {
      "cell_type": "code",
      "execution_count": null,
      "metadata": {
        "collapsed": false
      },
      "outputs": [],
      "source": [
        "SA = SobolSensitivity(runmodel_obj, dist_object)\n\n# Compute Sobol indices using the pick and freeze algorithm\nSA.run(n_samples=50_000, estimate_second_order=True)"
      ]
    },
    {
      "cell_type": "markdown",
      "metadata": {},
      "source": [
        "**First order Sobol indices**\n\nExpected first order Sobol indices:\n\n$S_1$ = 5.86781190e-01\n\n$S_2$ = 2.60791640e-01\n\n$S_3$ = 3.66738244e-02\n\n$S_4$ = 5.86781190e-03\n\n$S_5$ = 5.86781190e-05\n\n$S_6$ = 5.86781190e-05\n\n"
      ]
    },
    {
      "cell_type": "code",
      "execution_count": null,
      "metadata": {
        "collapsed": false
      },
      "outputs": [],
      "source": [
        "SA.first_order_indices"
      ]
    },
    {
      "cell_type": "markdown",
      "metadata": {},
      "source": [
        "**Plot the first order sensitivity indices**\n\n"
      ]
    },
    {
      "cell_type": "code",
      "execution_count": null,
      "metadata": {
        "collapsed": false
      },
      "outputs": [],
      "source": [
        "fig1, ax1 = plot_sensitivity_index(\n    SA.first_order_indices[:, 0],\n    plot_title=\"First order Sobol indices\",\n    color=\"C0\",\n)"
      ]
    },
    {
      "cell_type": "markdown",
      "metadata": {},
      "source": [
        "**Total order Sobol indices**\n\nExpected total order Sobol indices:\n\n$S_{T_1}$ = 6.90085892e-01\n\n$S_{T_2}$ = 3.56173364e-01\n\n$S_{T_3}$ = 5.63335422e-02\n\n$S_{T_4}$ = 9.17057664e-03\n\n$S_{T_5}$ = 9.20083854e-05\n\n$S_{T_6}$ = 9.20083854e-05\n\n\n"
      ]
    },
    {
      "cell_type": "code",
      "execution_count": null,
      "metadata": {
        "collapsed": false
      },
      "outputs": [],
      "source": [
        "SA.total_order_indices"
      ]
    },
    {
      "cell_type": "markdown",
      "metadata": {},
      "source": [
        "**Plot the first and total order sensitivity indices**\n\n"
      ]
    },
    {
      "cell_type": "code",
      "execution_count": null,
      "metadata": {
        "collapsed": false
      },
      "outputs": [],
      "source": [
        "fig2, ax2 = plot_index_comparison(\n    SA.first_order_indices[:, 0],\n    SA.total_order_indices[:, 0],\n    label_1=\"First order Sobol indices\",\n    label_2=\"Total order Sobol indices\",\n    plot_title=\"First and Total order Sobol indices\",\n)"
      ]
    },
    {
      "cell_type": "markdown",
      "metadata": {},
      "source": [
        "**Second order Sobol indices**\n\nExpected second order Sobol indices:\n\n$S_{T_{12}}$ = 0.0869305\n\n$S_{T_{13}}$ = 0.0122246\n\n$S_{T_{14}}$ = 0.00195594\n\n$S_{T_{15}}$ = 0.00001956\n\n$S_{T_{16}}$ = 0.00001956\n\n$S_{T_{23}}$ = 0.00543316\n\n$S_{T_{24}}$ = 0.00086931\n\n$S_{T_{25}}$ = 0.00000869\n\n$S_{T_{26}}$ = 0.00000869\n\n$S_{T_{34}}$ = 0.00012225\n\n$S_{T_{35}}$ = 0.00000122\n\n$S_{T_{36}}$ = 0.00000122\n\n$S_{T_{45}}$ = 0.00000020\n\n$S_{T_{46}}$ = 0.00000020\n\n$S_{T_{56}}$ = 2.0e-9\n\n"
      ]
    },
    {
      "cell_type": "code",
      "execution_count": null,
      "metadata": {
        "collapsed": false
      },
      "outputs": [],
      "source": [
        "SA.second_order_indices"
      ]
    },
    {
      "cell_type": "markdown",
      "metadata": {},
      "source": [
        "**Plot the second order sensitivity indices**\n\n"
      ]
    },
    {
      "cell_type": "code",
      "execution_count": null,
      "metadata": {
        "collapsed": false
      },
      "outputs": [],
      "source": [
        "fig3, ax3 = plot_second_order_indices(\n    SA.second_order_indices[:, 0],\n    num_vars=num_vars,\n)"
      ]
    }
  ],
  "metadata": {
    "kernelspec": {
      "display_name": "Python 3",
      "language": "python",
      "name": "python3"
    },
    "language_info": {
      "codemirror_mode": {
        "name": "ipython",
        "version": 3
      },
      "file_extension": ".py",
      "mimetype": "text/x-python",
      "name": "python",
      "nbconvert_exporter": "python",
      "pygments_lexer": "ipython3",
      "version": "3.9.15"
    }
  },
  "nbformat": 4,
  "nbformat_minor": 0
}