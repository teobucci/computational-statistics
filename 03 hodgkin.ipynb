{
 "cells": [
  {
   "cell_type": "code",
   "execution_count": 1,
   "id": "21a258a5-dfa5-4f2d-bdfc-97b9ea43c593",
   "metadata": {},
   "outputs": [],
   "source": [
    "import uncertainpy as un\n",
    "import numpy as np                   # For the time array\n",
    "import chaospy as cp                 # To create distributions\n",
    "from scipy.integrate import odeint   # To integrate our equation"
   ]
  },
  {
   "cell_type": "code",
   "execution_count": 2,
   "id": "a3244f59-0952-435b-9eae-9607e93fee89",
   "metadata": {},
   "outputs": [],
   "source": [
    "import uncertainpy as un\n",
    "\n",
    "import numpy as np\n",
    "from scipy.integrate import odeint\n",
    "\n",
    "\n",
    "# External stimulus\n",
    "def I(time):\n",
    "    return 140 # micro A/cm**2\n",
    "\n",
    "\n",
    "def valderrama(V_0=-10,\n",
    "               C_m=1,\n",
    "               gbar_Na=120,\n",
    "               gbar_K=36,\n",
    "               gbar_L=0.3,\n",
    "               E_Na=112,\n",
    "               E_K=-12,\n",
    "               E_l=10.613,\n",
    "               m_0=0.0011,\n",
    "               n_0=0.0003,\n",
    "               h_0=0.9998):\n",
    "\n",
    "    # Setup time\n",
    "    end_time = 15          # ms\n",
    "    dt = 0.025             # ms\n",
    "    time = np.arange(0, end_time + dt, dt)\n",
    "\n",
    "    # K channel\n",
    "    def alpha_n(V):\n",
    "        return 0.01*(10 - V)/(np.exp((10 - V)/10.) - 1)\n",
    "\n",
    "\n",
    "    def beta_n(V):\n",
    "        return 0.125*np.exp(-V/80.)\n",
    "\n",
    "    def n_f(n, V):\n",
    "        return alpha_n(V)*(1 - n) - beta_n(V)*n\n",
    "\n",
    "    def n_inf(V):\n",
    "        return alpha_n(V)/(alpha_n(V) + beta_n(V))\n",
    "\n",
    "\n",
    "    # Na channel (activating)\n",
    "    def alpha_m(V):\n",
    "        return 0.1*(25 - V)/(np.exp((25 - V)/10.) - 1)\n",
    "\n",
    "    def beta_m(V):\n",
    "        return 4*np.exp(-V/18.)\n",
    "\n",
    "    def m_f(m, V):\n",
    "        return alpha_m(V)*(1 - m) - beta_m(V)*m\n",
    "\n",
    "    def m_inf(V):\n",
    "        return alpha_m(V)/(alpha_m(V) + beta_m(V))\n",
    "\n",
    "\n",
    "    # Na channel (inactivating)\n",
    "    def alpha_h(V):\n",
    "        return 0.07*np.exp(-V/20.)\n",
    "\n",
    "    def beta_h(V):\n",
    "        return 1/(np.exp((30 - V)/10.) + 1)\n",
    "\n",
    "    def h_f(h, V):\n",
    "        return alpha_h(V)*(1 - h) - beta_h(V)*h\n",
    "\n",
    "    def h_inf(V):\n",
    "        return alpha_h(V)/(alpha_h(V) + beta_h(V))\n",
    "\n",
    "\n",
    "    def dXdt(X, t):\n",
    "        V, h, m, n = X\n",
    "\n",
    "        g_Na = gbar_Na*(m**3)*h\n",
    "        g_K = gbar_K*(n**4)\n",
    "        g_l = gbar_L\n",
    "\n",
    "        dmdt = m_f(m, V)\n",
    "        dhdt = h_f(h, V)\n",
    "        dndt = n_f(n, V)\n",
    "\n",
    "        dVdt = (I(t) - g_Na*(V - E_Na) - g_K*(V - E_K) - g_l*(V - E_l))/C_m\n",
    "\n",
    "        return [dVdt, dhdt, dmdt, dndt]\n",
    "\n",
    "\n",
    "    initial_conditions = [V_0, h_0, m_0, n_0]\n",
    "\n",
    "    X = odeint(dXdt, initial_conditions, time)\n",
    "    values = X[:, 0]\n",
    "\n",
    "    # Only return from 5 seconds onwards, as in the Valderrama paper\n",
    "    values = values[time > 5]\n",
    "    time = time[time > 5]\n",
    "\n",
    "    # Add info needed by certain spiking features and efel features\n",
    "    info = {\"stimulus_start\": time[0], \"stimulus_end\": time[-1]}\n",
    "\n",
    "    return time, values, info"
   ]
  },
  {
   "cell_type": "code",
   "execution_count": 3,
   "id": "964b34ad-f79f-46df-868b-174210113e97",
   "metadata": {},
   "outputs": [],
   "source": [
    "# Initialize the model\n",
    "model = un.Model(run=valderrama,\n",
    "                 labels=[\"Time (ms)\", \"Membrane potential (mV)\"])"
   ]
  },
  {
   "cell_type": "code",
   "execution_count": 4,
   "id": "6f0779c8-a879-43fe-8a2a-8bf5cf534dbe",
   "metadata": {},
   "outputs": [],
   "source": [
    "# Define a parameter dictionary\n",
    "parameters = {\"V_0\": -10,\n",
    "              \"C_m\": 1,\n",
    "              \"gbar_Na\": 120,\n",
    "              \"gbar_K\": 36,\n",
    "              \"gbar_L\": 0.3,\n",
    "              \"m_0\": 0.0011,\n",
    "              \"n_0\": 0.0003,\n",
    "              \"h_0\": 0.9998,\n",
    "              \"E_Na\": 112,\n",
    "              \"E_K\": -12,\n",
    "              \"E_l\": 10.613\n",
    "             }\n",
    "\n",
    "# Create the parameters\n",
    "parameters = un.Parameters(parameters)"
   ]
  },
  {
   "cell_type": "code",
   "execution_count": 5,
   "id": "4d5a7950-4dca-4b83-aeef-2e7276b66bef",
   "metadata": {},
   "outputs": [],
   "source": [
    "# Set all parameters to have a uniform distribution\n",
    "# within a 20% interval around their fixed value\n",
    "parameters.set_all_distributions(un.uniform(0.2))"
   ]
  },
  {
   "cell_type": "code",
   "execution_count": 6,
   "id": "cdbde56a-97af-4458-b0a7-1617b1816f9d",
   "metadata": {},
   "outputs": [],
   "source": [
    "# Import the functions and libraries needed\n",
    "#from uncertainpy.utils import create_logger\n",
    "import logging\n",
    "\n",
    "# Set up a logger. This adds a screen handlers to the \"uncertainpy\" logger\n",
    "# if it does not already exist\n",
    "# All log messages with level \"info\" or higher will be logged.\n",
    "#setup_logger(\"uncertainpy.logger_name\", level=\"info\")\n",
    "\n",
    "# Get the logger recently created\n",
    "logger = logging.getLogger(\"uncertainpy.logger_name\")\n",
    "logger.setLevel(logging.INFO)"
   ]
  },
  {
   "cell_type": "code",
   "execution_count": 7,
   "id": "c00c364f-9ba9-4f62-837b-6ee2ecd3b6d7",
   "metadata": {},
   "outputs": [
    {
     "name": "stderr",
     "output_type": "stream",
     "text": [
      "/Users/teo/.pyenv/versions/compstat/lib/python3.9/site-packages/SALib/sample/saltelli.py:94: UserWarning: \n",
      "        Convergence properties of the Sobol' sequence is only valid if\n",
      "        `N` (5000) is equal to `2^n`.\n",
      "        \n",
      "  warnings.warn(msg)\n",
      "Running model: 100%|█████████████████████| 65000/65000 [01:47<00:00, 604.75it/s]\n"
     ]
    },
    {
     "name": "stdout",
     "output_type": "stream",
     "text": [
      "Saving data as: data/valderrama.h5\n"
     ]
    }
   ],
   "source": [
    "# Perform the uncertainty quantification\n",
    "UQ = un.UncertaintyQuantification(model,\n",
    "                                  parameters=parameters)\n",
    "\n",
    "# We set the seed to easier be able to reproduce the result\n",
    "data = UQ.quantify(seed=10,method=\"mc\")#,nr_pc_mc_samples=100)"
   ]
  },
  {
   "cell_type": "markdown",
   "id": "862d79f0-c43b-4903-a1c9-be6ca71522ad",
   "metadata": {},
   "source": [
    "https://github.com/simetenn/uncertainpy/issues/59\n",
    "\n",
    "> I also had a similar experience. The \"Calculating statistics from PCE\" step takes aprox. 30s for 4 parameters, 3 minutes for 5 and around 1h for 6. I have not tried with more parameters. This step is not parallelized and I used a 3Ghz CPU. I wonder if this part of the code cannot be made more efficient as It seems to need a lot of time for > 6 parameters.\n",
    "\n"
   ]
  },
  {
   "cell_type": "code",
   "execution_count": null,
   "id": "320ff1f7-efa6-4f09-a7ee-53c90e5405ea",
   "metadata": {},
   "outputs": [],
   "source": [
    "# nest gets autistic"
   ]
  }
 ],
 "metadata": {
  "kernelspec": {
   "display_name": "Computational Statistics",
   "language": "python",
   "name": "compstat"
  },
  "language_info": {
   "codemirror_mode": {
    "name": "ipython",
    "version": 3
   },
   "file_extension": ".py",
   "mimetype": "text/x-python",
   "name": "python",
   "nbconvert_exporter": "python",
   "pygments_lexer": "ipython3",
   "version": "3.9.13"
  }
 },
 "nbformat": 4,
 "nbformat_minor": 5
}
