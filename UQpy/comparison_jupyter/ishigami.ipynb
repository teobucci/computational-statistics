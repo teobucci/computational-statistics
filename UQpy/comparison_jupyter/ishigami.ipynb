{
  "cells": [
    {
      "cell_type": "code",
      "execution_count": null,
      "metadata": {
        "collapsed": false
      },
      "outputs": [],
      "source": [
        "%matplotlib inline"
      ]
    },
    {
      "cell_type": "markdown",
      "metadata": {},
      "source": [
        "\n# Ishigami function\n\nThe ishigami function is a non-linear, non-monotonic function that is commonly used to \nbenchmark uncertainty and senstivity analysis methods.\n\n\\begin{align}f(x_1, x_2, x_3) = sin(x_1) + a \\cdot sin^2(x_2) + b \\cdot x_3^4 sin(x_1)\\end{align}\n\n\\begin{align}x_1, x_2, x_3 \\sim \\mathcal{U}(-\\pi, \\pi), \\quad a, b\\in \\mathbb{R}\\end{align}\n"
      ]
    },
    {
      "cell_type": "code",
      "execution_count": null,
      "metadata": {
        "collapsed": false
      },
      "outputs": [],
      "source": [
        "import numpy as np\n\nfrom UQpy.run_model.RunModel import RunModel\nfrom UQpy.run_model.model_execution.PythonModel import PythonModel\nfrom UQpy.distributions import Uniform\nfrom UQpy.distributions.collection.JointIndependent import JointIndependent\nfrom UQpy.sensitivity.ChatterjeeSensitivity import ChatterjeeSensitivity\nfrom UQpy.sensitivity.CramerVonMisesSensitivity import CramerVonMisesSensitivity as cvm\nfrom UQpy.sensitivity.SobolSensitivity import SobolSensitivity\nfrom UQpy.sensitivity.PostProcess import *\n\nnp.random.seed(123)"
      ]
    },
    {
      "cell_type": "markdown",
      "metadata": {},
      "source": [
        "**Define the model and input distributions**\n\n"
      ]
    },
    {
      "cell_type": "markdown",
      "metadata": {},
      "source": [
        "Create Model object\n\n"
      ]
    },
    {
      "cell_type": "code",
      "execution_count": null,
      "metadata": {
        "collapsed": false
      },
      "outputs": [],
      "source": [
        "model = PythonModel(\n    model_script=\"local_ishigami.py\",\n    model_object_name=\"evaluate\",\n    var_names=[r\"$X_1$\", \"$X_2$\", \"$X_3$\"],\n    delete_files=True,\n    params=[7, 0.1],\n)\n\nrunmodel_obj = RunModel(model=model)\n\n# Define distribution object\ndist_object = JointIndependent([Uniform(-np.pi, 2 * np.pi)] * 3)"
      ]
    },
    {
      "cell_type": "markdown",
      "metadata": {},
      "source": [
        "**Compute Sobol indices**\n\n"
      ]
    },
    {
      "cell_type": "code",
      "execution_count": null,
      "metadata": {
        "collapsed": false
      },
      "outputs": [],
      "source": [
        "SA_sobol = SobolSensitivity(runmodel_obj, dist_object)\n\nSA_sobol.run(n_samples=100_000)"
      ]
    },
    {
      "cell_type": "markdown",
      "metadata": {},
      "source": [
        "**First order Sobol indices**\n\nExpected first order Sobol indices:\n\n$S_1$ = 0.3139\n\n$S_2$ = 0.4424\n\n$S_3$ = 0.0\n\n"
      ]
    },
    {
      "cell_type": "code",
      "execution_count": null,
      "metadata": {
        "collapsed": false
      },
      "outputs": [],
      "source": [
        "SA_sobol.first_order_indices"
      ]
    },
    {
      "cell_type": "markdown",
      "metadata": {},
      "source": [
        "**Total order Sobol indices**\n\nExpected total order Sobol indices:\n\n$S_{T_1}$ = 0.55758886\n\n$S_{T_2}$ = 0.44241114\n\n$S_{T_3}$ =  0.24368366\n\n"
      ]
    },
    {
      "cell_type": "code",
      "execution_count": null,
      "metadata": {
        "collapsed": false
      },
      "outputs": [],
      "source": [
        "SA_sobol.total_order_indices"
      ]
    },
    {
      "cell_type": "markdown",
      "metadata": {},
      "source": [
        "**Compute Chatterjee indices**\n\n"
      ]
    },
    {
      "cell_type": "code",
      "execution_count": null,
      "metadata": {
        "collapsed": false
      },
      "outputs": [],
      "source": [
        "SA_chatterjee = ChatterjeeSensitivity(runmodel_obj, dist_object)\n\nSA_chatterjee.run(n_samples=50_000)"
      ]
    },
    {
      "cell_type": "code",
      "execution_count": null,
      "metadata": {
        "collapsed": false
      },
      "outputs": [],
      "source": [
        "SA_chatterjee.first_order_chatterjee_indices"
      ]
    },
    {
      "cell_type": "markdown",
      "metadata": {},
      "source": [
        "**Compute Cram\u00e9r-von Mises indices**\n\n"
      ]
    },
    {
      "cell_type": "code",
      "execution_count": null,
      "metadata": {
        "collapsed": false
      },
      "outputs": [],
      "source": [
        "SA_cvm = cvm(runmodel_obj, dist_object)\n\n# Compute CVM indices using the pick and freeze algorithm\nSA_cvm.run(n_samples=20_000, estimate_sobol_indices=True)"
      ]
    },
    {
      "cell_type": "code",
      "execution_count": null,
      "metadata": {
        "collapsed": false
      },
      "outputs": [],
      "source": [
        "SA_cvm.first_order_CramerVonMises_indices"
      ]
    },
    {
      "cell_type": "markdown",
      "metadata": {},
      "source": [
        "**Plot all indices**\n\n"
      ]
    },
    {
      "cell_type": "code",
      "execution_count": null,
      "metadata": {
        "collapsed": false
      },
      "outputs": [],
      "source": [
        "num_vars = 3\n_idx = np.arange(num_vars)\nvariable_names = [r\"$X_{}$\".format(i + 1) for i in range(num_vars)]\n\n# round to 2 decimal places\nindices_1 = np.around(SA_sobol.first_order_indices[:, 0], decimals=2)\nindices_2 = np.around(SA_chatterjee.first_order_chatterjee_indices[:, 0], decimals=2)\nindices_3 = np.around(SA_cvm.first_order_CramerVonMises_indices[:, 0], decimals=2)\n\nfig, ax = plt.subplots()\nwidth = 0.3\nax.spines[\"top\"].set_visible(False)\nax.spines[\"right\"].set_visible(False)\n\nbar_indices_1 = ax.bar(\n    _idx - width,  # x-axis\n    indices_1,  # y-axis\n    width=width,  # bar width\n    color=\"C0\",  # bar color\n    # alpha=0.5,  # bar transparency\n    label=\"Sobol\",  # bar label\n    ecolor=\"k\",  # error bar color\n    capsize=5,  # error bar cap size in pt\n)\n\nbar_indices_2 = ax.bar(\n    _idx,  # x-axis\n    indices_2,  # y-axis\n    width=width,  # bar width\n    color=\"C2\",  # bar color\n    # alpha=0.5,  # bar transparency\n    label=\"Chatterjee\",  # bar label\n    ecolor=\"k\",  # error bar color\n    capsize=5,  # error bar cap size in pt\n)\n\nbar_indices_3 = ax.bar(\n    _idx + width,  # x-axis\n    indices_3,  # y-axis\n    width=width,  # bar width\n    color=\"C3\",  # bar color\n    # alpha=0.5,  # bar transparency\n    label=\"Cram\u00e9r-von Mises\",  # bar label\n    ecolor=\"k\",  # error bar color\n    capsize=5,  # error bar cap size in pt\n)\n\nax.bar_label(bar_indices_1, label_type=\"edge\", fontsize=10)\nax.bar_label(bar_indices_2, label_type=\"edge\", fontsize=10)\nax.bar_label(bar_indices_3, label_type=\"edge\", fontsize=10)\nax.set_xticks(_idx, variable_names)\nax.set_xlabel(\"Model inputs\")\nax.set_title(\"Comparison of sensitivity indices\")\nax.set_ylim(top=1)  # set only upper limit of y to 1\nax.legend()\n\nplt.show()"
      ]
    }
  ],
  "metadata": {
    "kernelspec": {
      "display_name": "Python 3",
      "language": "python",
      "name": "python3"
    },
    "language_info": {
      "codemirror_mode": {
        "name": "ipython",
        "version": 3
      },
      "file_extension": ".py",
      "mimetype": "text/x-python",
      "name": "python",
      "nbconvert_exporter": "python",
      "pygments_lexer": "ipython3",
      "version": "3.9.15"
    }
  },
  "nbformat": 4,
  "nbformat_minor": 0
}