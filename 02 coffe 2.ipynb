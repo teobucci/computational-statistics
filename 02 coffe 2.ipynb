{
 "cells": [
  {
   "cell_type": "code",
   "execution_count": 2,
   "id": "21a258a5-dfa5-4f2d-bdfc-97b9ea43c593",
   "metadata": {},
   "outputs": [],
   "source": [
    "import uncertainpy as un\n",
    "import numpy as np                   # For the time array\n",
    "import chaospy as cp                 # To create distributions\n",
    "from scipy.integrate import odeint   # To integrate our equation"
   ]
  },
  {
   "cell_type": "code",
   "execution_count": 5,
   "id": "a3244f59-0952-435b-9eae-9607e93fee89",
   "metadata": {},
   "outputs": [
    {
     "name": "stderr",
     "output_type": "stream",
     "text": [
      "chaospy.orth_ttr name is to be deprecated; Use chaospy.expansion.stieltjes instead\n",
      "Running model: 100%|████████████████████████| 72/72 [00:00<00:00, 620102.44it/s]\n",
      "Calculating PC for each feature: 100%|████████████| 1/1 [00:00<00:00, 45.02it/s]\n",
      "Calculating statistics from PCE: 100%|████████████| 1/1 [00:02<00:00,  2.36s/it]\n"
     ]
    },
    {
     "name": "stdout",
     "output_type": "stream",
     "text": [
      "Saving data as: data/coffee_cup_dependent.h5\n"
     ]
    }
   ],
   "source": [
    "# Create the coffee cup model function\n",
    "def coffee_cup_dependent(kappa_hat, T_env, alpha):\n",
    "    # Initial temperature and time\n",
    "    time = np.linspace(0, 200, 150)            # Minutes\n",
    "    T_0 = 95                                   # Celsius\n",
    "\n",
    "    # The equation describing the model\n",
    "    def f(T, time, alpha, kappa_hat, T_env):\n",
    "        return -alpha*kappa_hat*(T - T_env)\n",
    "\n",
    "    # Solving the equation by integration.\n",
    "    temperature = odeint(f, T_0, time, args=(alpha, kappa_hat, T_env))[:, 0]\n",
    "\n",
    "    # Return time and model results\n",
    "    return time, temperature\n",
    "\n",
    "\n",
    "# Create a model from the coffee_cup_dependent function and add labels\n",
    "model = un.Model(coffee_cup_dependent, labels=[\"Time (s)\", \"Temperature (C)\"])\n",
    "\n",
    "# Create the distributions\n",
    "T_env_dist = cp.Uniform(15, 25)\n",
    "alpha_dist = cp.Uniform(0.5, 1.5)\n",
    "kappa_hat_dist = cp.Uniform(0.025, 0.075)/alpha_dist\n",
    "\n",
    "# Define the parameters dictionary\n",
    "parameters = {\"alpha\": alpha_dist,\n",
    "              \"kappa_hat\": kappa_hat_dist,\n",
    "              \"T_env\": T_env_dist}\n",
    "\n",
    "# We can use the parameters dictionary directly\n",
    "# when we set up the uncertainty quantification\n",
    "UQ = un.UncertaintyQuantification(model=model, parameters=parameters)\n",
    "\n",
    "# Perform the uncertainty quantification,\n",
    "# which automatically use the Rosenblatt transformation\n",
    "# We set the seed to easier be able to reproduce the result\n",
    "data = UQ.quantify(seed=10)"
   ]
  },
  {
   "cell_type": "code",
   "execution_count": null,
   "id": "964b34ad-f79f-46df-868b-174210113e97",
   "metadata": {},
   "outputs": [],
   "source": []
  }
 ],
 "metadata": {
  "kernelspec": {
   "display_name": "Computational Statistics",
   "language": "python",
   "name": "compstat"
  },
  "language_info": {
   "codemirror_mode": {
    "name": "ipython",
    "version": 3
   },
   "file_extension": ".py",
   "mimetype": "text/x-python",
   "name": "python",
   "nbconvert_exporter": "python",
   "pygments_lexer": "ipython3",
   "version": "3.9.13"
  }
 },
 "nbformat": 4,
 "nbformat_minor": 5
}
