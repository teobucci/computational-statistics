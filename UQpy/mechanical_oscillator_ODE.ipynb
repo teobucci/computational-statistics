{
 "cells": [
  {
   "cell_type": "code",
   "execution_count": 1,
   "metadata": {
    "collapsed": false,
    "jupyter": {
     "outputs_hidden": false
    }
   },
   "outputs": [],
   "source": [
    "import matplotlib.pyplot as plt\n",
    "%matplotlib inline\n",
    "%config InlineBackend.figure_format='retina'"
   ]
  },
  {
   "cell_type": "markdown",
   "metadata": {},
   "source": [
    "\n",
    "# Mechanical oscillator model (multioutput)\n",
    "\n",
    "In this example, we consider the mechanical oscillator is governed by the following \n",
    "second-order ODE as demonstrated in [1]_:\n",
    "\n",
    "\\begin{align}m \\ddot{x} + c \\dot{x} + k x = 0\\end{align}\n",
    "\n",
    "\\begin{align}x(0) = \\ell, \\dot{x}(0) = 0.\\end{align}\n",
    "\n",
    "The parameteres of the oscillator are modeled as follows:\n",
    "\n",
    "\\begin{align}m \\sim \\mathcal{U}(10, 12), c \\sim \\mathcal{U}(0.4, 0.8), k \\sim \\mathcal{U}(70, 90), \\ell \\sim \\mathcal{U}(-1, -0.25).\\end{align}\n",
    "\n",
    "Here, we compute the Sobol indices for each point in time and are called \n",
    "pointwise-in-time Sobol indices. These indices describe the sensitivity of the model \n",
    "parameters at each point in time.\n",
    "\n",
    ".. [1] Gamboa, F., Janon, A., Klein, T., & Lagnoux, A. (2014). Sensitivity analysis for multidimensional and functional outputs. Electronic Journal of Statistics, 8(1), 575-603.\n"
   ]
  },
  {
   "cell_type": "code",
   "execution_count": 2,
   "metadata": {
    "collapsed": false,
    "jupyter": {
     "outputs_hidden": false
    }
   },
   "outputs": [],
   "source": [
    "import numpy as np\n",
    "import matplotlib.pyplot as plt\n",
    "\n",
    "from UQpy.run_model.RunModel import RunModel\n",
    "from UQpy.run_model.model_execution.PythonModel import PythonModel\n",
    "from UQpy.distributions import Uniform\n",
    "from UQpy.distributions.collection.JointIndependent import JointIndependent\n",
    "from UQpy.sensitivity.SobolSensitivity import SobolSensitivity"
   ]
  },
  {
   "cell_type": "markdown",
   "metadata": {},
   "source": [
    "**Define the model and input distributions**\n",
    "\n"
   ]
  },
  {
   "cell_type": "code",
   "execution_count": 5,
   "metadata": {
    "collapsed": false,
    "jupyter": {
     "outputs_hidden": false
    }
   },
   "outputs": [],
   "source": [
    "# Create Model object\n",
    "model = PythonModel(\n",
    "    model_script=\"local_mechanical_oscillator_ODE.py\",\n",
    "    model_object_name=\"mech_oscillator\",\n",
    "    var_names=[r\"$m$\", \"$c$\", \"$k$\", \"$\\ell$\"],\n",
    "    delete_files=True,\n",
    "    params=[M, C, K, L]\n",
    ")\n",
    "\n",
    "runmodel_obj = RunModel(model=model)\n",
    "\n",
    "# Define distribution object\n",
    "M = Uniform(10, (12 - 10))\n",
    "C = Uniform(0.4, (0.8 - 0.4))\n",
    "K = Uniform(70, (90 - 70))\n",
    "L = Uniform(-1, (-0.25 - -1))\n",
    "dist_object = JointIndependent([M, C, K, L])"
   ]
  },
  {
   "cell_type": "markdown",
   "metadata": {},
   "source": [
    "**Compute Sobol indices**\n",
    "\n"
   ]
  },
  {
   "cell_type": "code",
   "execution_count": 6,
   "metadata": {
    "collapsed": false,
    "jupyter": {
     "outputs_hidden": false
    }
   },
   "outputs": [
    {
     "ename": "TypeError",
     "evalue": "unsupported operand type(s) for *: 'Uniform' and 'float'",
     "output_type": "error",
     "traceback": [
      "\u001b[0;31m---------------------------------------------------------------------------\u001b[0m",
      "\u001b[0;31mTypeError\u001b[0m                                 Traceback (most recent call last)",
      "Cell \u001b[0;32mIn [6], line 3\u001b[0m\n\u001b[1;32m      1\u001b[0m SA \u001b[38;5;241m=\u001b[39m SobolSensitivity(runmodel_obj, dist_object)\n\u001b[0;32m----> 3\u001b[0m \u001b[43mSA\u001b[49m\u001b[38;5;241;43m.\u001b[39;49m\u001b[43mrun\u001b[49m\u001b[43m(\u001b[49m\u001b[43mn_samples\u001b[49m\u001b[38;5;241;43m=\u001b[39;49m\u001b[38;5;241;43m500\u001b[39;49m\u001b[43m)\u001b[49m\n",
      "File \u001b[0;32m<string>:154\u001b[0m, in \u001b[0;36mrun\u001b[0;34m(__beartype_func, __beartype_raise_exception, __beartype_object_5334418912, __beartype_object_5334419200, *args, **kwargs)\u001b[0m\n",
      "File \u001b[0;32m~/.pyenv/versions/3.9.13/envs/compstat/lib/python3.9/site-packages/UQpy/sensitivity/SobolSensitivity.py:197\u001b[0m, in \u001b[0;36mSobolSensitivity.run\u001b[0;34m(self, n_samples, n_bootstrap_samples, confidence_level, estimate_second_order, first_order_scheme, total_order_scheme, second_order_scheme)\u001b[0m\n\u001b[1;32m    193\u001b[0m \u001b[38;5;28mself\u001b[39m\u001b[38;5;241m.\u001b[39mn_variables \u001b[38;5;241m=\u001b[39m A_samples\u001b[38;5;241m.\u001b[39mshape[\u001b[38;5;241m1\u001b[39m]  \u001b[38;5;66;03m# Number of variables\u001b[39;00m\n\u001b[1;32m    195\u001b[0m \u001b[38;5;66;03m################# MODEL EVALUATIONS ####################\u001b[39;00m\n\u001b[0;32m--> 197\u001b[0m A_model_evals \u001b[38;5;241m=\u001b[39m \u001b[38;5;28;43mself\u001b[39;49m\u001b[38;5;241;43m.\u001b[39;49m\u001b[43m_run_model\u001b[49m\u001b[43m(\u001b[49m\u001b[43mA_samples\u001b[49m\u001b[43m)\u001b[49m  \u001b[38;5;66;03m# shape: (n_samples, n_outputs)\u001b[39;00m\n\u001b[1;32m    199\u001b[0m \u001b[38;5;28mself\u001b[39m\u001b[38;5;241m.\u001b[39mlogger\u001b[38;5;241m.\u001b[39minfo(\u001b[38;5;124m\"\u001b[39m\u001b[38;5;124mUQpy: Model evaluations A completed.\u001b[39m\u001b[38;5;124m\"\u001b[39m)\n\u001b[1;32m    201\u001b[0m B_model_evals \u001b[38;5;241m=\u001b[39m \u001b[38;5;28mself\u001b[39m\u001b[38;5;241m.\u001b[39m_run_model(B_samples)  \u001b[38;5;66;03m# shape: (n_samples, n_outputs)\u001b[39;00m\n",
      "File \u001b[0;32m<string>:45\u001b[0m, in \u001b[0;36m_run_model\u001b[0;34m(__beartype_func, __beartype_raise_exception, __beartype_object_5334419776, __beartype_object_5334420064, __beartype_object_4490583672, *args, **kwargs)\u001b[0m\n",
      "File \u001b[0;32m~/.pyenv/versions/3.9.13/envs/compstat/lib/python3.9/site-packages/UQpy/sensitivity/baseclass/Sensitivity.py:65\u001b[0m, in \u001b[0;36mSensitivity._run_model\u001b[0;34m(self, samples)\u001b[0m\n\u001b[1;32m     45\u001b[0m \u001b[38;5;129m@beartype\u001b[39m\n\u001b[1;32m     46\u001b[0m \u001b[38;5;28;01mdef\u001b[39;00m \u001b[38;5;21m_run_model\u001b[39m(\u001b[38;5;28mself\u001b[39m, samples: Union[NumpyFloatArray, NumpyIntArray]):\n\u001b[1;32m     47\u001b[0m     \u001b[38;5;124;03m\"\"\"Generate model evaluations for a set of samples.\u001b[39;00m\n\u001b[1;32m     48\u001b[0m \n\u001b[1;32m     49\u001b[0m \u001b[38;5;124;03m    **Inputs**:\u001b[39;00m\n\u001b[0;32m   (...)\u001b[0m\n\u001b[1;32m     62\u001b[0m \n\u001b[1;32m     63\u001b[0m \u001b[38;5;124;03m    \"\"\"\u001b[39;00m\n\u001b[0;32m---> 65\u001b[0m     \u001b[38;5;28;43mself\u001b[39;49m\u001b[38;5;241;43m.\u001b[39;49m\u001b[43mrunmodel_object\u001b[49m\u001b[38;5;241;43m.\u001b[39;49m\u001b[43mrun\u001b[49m\u001b[43m(\u001b[49m\u001b[43msamples\u001b[49m\u001b[38;5;241;43m=\u001b[39;49m\u001b[43msamples\u001b[49m\u001b[43m,\u001b[49m\u001b[43m \u001b[49m\u001b[43mappend_samples\u001b[49m\u001b[38;5;241;43m=\u001b[39;49m\u001b[38;5;28;43;01mFalse\u001b[39;49;00m\u001b[43m)\u001b[49m\n\u001b[1;32m     66\u001b[0m     model_evals \u001b[38;5;241m=\u001b[39m copy\u001b[38;5;241m.\u001b[39mdeepcopy(np\u001b[38;5;241m.\u001b[39marray(\u001b[38;5;28mself\u001b[39m\u001b[38;5;241m.\u001b[39mrunmodel_object\u001b[38;5;241m.\u001b[39mqoi_list))\n\u001b[1;32m     68\u001b[0m     \u001b[38;5;28;01mreturn\u001b[39;00m model_evals\n",
      "File \u001b[0;32m~/.pyenv/versions/3.9.13/envs/compstat/lib/python3.9/site-packages/UQpy/run_model/RunModel.py:182\u001b[0m, in \u001b[0;36mRunModel.run\u001b[0;34m(self, samples, append_samples)\u001b[0m\n\u001b[1;32m    178\u001b[0m     \u001b[38;5;28mself\u001b[39m\u001b[38;5;241m.\u001b[39msamples \u001b[38;5;241m=\u001b[39m np\u001b[38;5;241m.\u001b[39mvstack((\u001b[38;5;28mself\u001b[39m\u001b[38;5;241m.\u001b[39msamples, samples))\n\u001b[1;32m    180\u001b[0m \u001b[38;5;28mself\u001b[39m\u001b[38;5;241m.\u001b[39mmodel\u001b[38;5;241m.\u001b[39minitialize(samples)\n\u001b[0;32m--> 182\u001b[0m \u001b[38;5;28mself\u001b[39m\u001b[38;5;241m.\u001b[39mqoi_list\u001b[38;5;241m.\u001b[39mextend(\u001b[38;5;28;43mself\u001b[39;49m\u001b[38;5;241;43m.\u001b[39;49m\u001b[43mserial_execution\u001b[49m\u001b[43m(\u001b[49m\u001b[43m)\u001b[49m \u001b[38;5;28;01mif\u001b[39;00m \u001b[38;5;28mself\u001b[39m\u001b[38;5;241m.\u001b[39mis_serial \u001b[38;5;28;01melse\u001b[39;00m \u001b[38;5;28mself\u001b[39m\u001b[38;5;241m.\u001b[39mparallel_execution())\n\u001b[1;32m    184\u001b[0m \u001b[38;5;28mself\u001b[39m\u001b[38;5;241m.\u001b[39mmodel\u001b[38;5;241m.\u001b[39mfinalize()\n",
      "File \u001b[0;32m~/.pyenv/versions/3.9.13/envs/compstat/lib/python3.9/site-packages/UQpy/run_model/RunModel.py:210\u001b[0m, in \u001b[0;36mRunModel.serial_execution\u001b[0;34m(self)\u001b[0m\n\u001b[1;32m    207\u001b[0m \u001b[38;5;28;01mfor\u001b[39;00m i \u001b[38;5;129;01min\u001b[39;00m \u001b[38;5;28mrange\u001b[39m(\u001b[38;5;28mself\u001b[39m\u001b[38;5;241m.\u001b[39mn_existing_simulations, \u001b[38;5;28mself\u001b[39m\u001b[38;5;241m.\u001b[39mn_existing_simulations \u001b[38;5;241m+\u001b[39m \u001b[38;5;28mself\u001b[39m\u001b[38;5;241m.\u001b[39mn_new_simulations):\n\u001b[1;32m    208\u001b[0m     sample \u001b[38;5;241m=\u001b[39m \u001b[38;5;28mself\u001b[39m\u001b[38;5;241m.\u001b[39mmodel\u001b[38;5;241m.\u001b[39mpreprocess_single_sample(i, \u001b[38;5;28mself\u001b[39m\u001b[38;5;241m.\u001b[39msamples[i])\n\u001b[0;32m--> 210\u001b[0m     execution_output \u001b[38;5;241m=\u001b[39m \u001b[38;5;28;43mself\u001b[39;49m\u001b[38;5;241;43m.\u001b[39;49m\u001b[43mmodel\u001b[49m\u001b[38;5;241;43m.\u001b[39;49m\u001b[43mexecute_single_sample\u001b[49m\u001b[43m(\u001b[49m\u001b[43mi\u001b[49m\u001b[43m,\u001b[49m\u001b[43m \u001b[49m\u001b[43msample\u001b[49m\u001b[43m)\u001b[49m\n\u001b[1;32m    212\u001b[0m     results\u001b[38;5;241m.\u001b[39mappend(\u001b[38;5;28mself\u001b[39m\u001b[38;5;241m.\u001b[39mmodel\u001b[38;5;241m.\u001b[39mpostprocess_single_file(i, execution_output))\n\u001b[1;32m    214\u001b[0m \u001b[38;5;28mself\u001b[39m\u001b[38;5;241m.\u001b[39mlogger\u001b[38;5;241m.\u001b[39minfo(\u001b[38;5;124m\"\u001b[39m\u001b[38;5;130;01m\\n\u001b[39;00m\u001b[38;5;124mUQpy: Serial execution of the python model complete.\u001b[39m\u001b[38;5;130;01m\\n\u001b[39;00m\u001b[38;5;124m\"\u001b[39m)\n",
      "File \u001b[0;32m~/.pyenv/versions/3.9.13/envs/compstat/lib/python3.9/site-packages/UQpy/run_model/model_execution/PythonModel.py:86\u001b[0m, in \u001b[0;36mPythonModel.execute_single_sample\u001b[0;34m(self, index, sample_to_send)\u001b[0m\n\u001b[1;32m     84\u001b[0m     \u001b[38;5;28;01mreturn\u001b[39;00m \u001b[38;5;28mself\u001b[39m\u001b[38;5;241m.\u001b[39mmodel_object(sample_to_send)\n\u001b[1;32m     85\u001b[0m \u001b[38;5;28;01melse\u001b[39;00m:\n\u001b[0;32m---> 86\u001b[0m     \u001b[38;5;28;01mreturn\u001b[39;00m \u001b[38;5;28;43mself\u001b[39;49m\u001b[38;5;241;43m.\u001b[39;49m\u001b[43mmodel_object\u001b[49m\u001b[43m(\u001b[49m\u001b[43msample_to_send\u001b[49m\u001b[43m,\u001b[49m\u001b[43m \u001b[49m\u001b[38;5;241;43m*\u001b[39;49m\u001b[38;5;241;43m*\u001b[39;49m\u001b[38;5;28;43mself\u001b[39;49m\u001b[38;5;241;43m.\u001b[39;49m\u001b[43mmodel_object_name_kwargs\u001b[49m\u001b[43m)\u001b[49m\n",
      "File \u001b[0;32m~/Documents/GitHub/computational-statistics/UQpy/local_mechanical_oscillator_ODE.py:2\u001b[0m, in \u001b[0;36mmech_oscillator\u001b[0;34m(X, params)\u001b[0m\n\u001b[1;32m      1\u001b[0m \u001b[38;5;28;01mdef\u001b[39;00m \u001b[38;5;21mmech_oscillator\u001b[39m(X, params):\n\u001b[0;32m----> 2\u001b[0m \t\u001b[38;5;28;01mreturn\u001b[39;00m \u001b[43mparams\u001b[49m\u001b[43m[\u001b[49m\u001b[38;5;241;43m0\u001b[39;49m\u001b[43m]\u001b[49m\u001b[43m \u001b[49m\u001b[38;5;241;43m*\u001b[39;49m\u001b[43m \u001b[49m\u001b[43mX\u001b[49m\u001b[43m[\u001b[49m\u001b[43m:\u001b[49m\u001b[43m,\u001b[49m\u001b[43m \u001b[49m\u001b[38;5;241;43m0\u001b[39;49m\u001b[43m]\u001b[49m \u001b[38;5;241m+\u001b[39m params[\u001b[38;5;241m1\u001b[39m] \u001b[38;5;241m*\u001b[39m X[:, \u001b[38;5;241m1\u001b[39m]\n",
      "\u001b[0;31mTypeError\u001b[0m: unsupported operand type(s) for *: 'Uniform' and 'float'"
     ]
    }
   ],
   "source": [
    "SA = SobolSensitivity(runmodel_obj, dist_object)\n",
    "\n",
    "SA.run(n_samples=500)"
   ]
  },
  {
   "cell_type": "markdown",
   "metadata": {},
   "source": [
    "**Plot the Sobol indices**\n",
    "\n"
   ]
  },
  {
   "cell_type": "code",
   "execution_count": null,
   "metadata": {
    "collapsed": false,
    "jupyter": {
     "outputs_hidden": false
    }
   },
   "outputs": [],
   "source": [
    "t_0 = 0\n",
    "t_f = 40\n",
    "dt = 0.05\n",
    "n_t = int((t_f - t_0) / dt)\n",
    "T = np.linspace(t_0, t_f, n_t)\n",
    "\n",
    "fig, ax = plt.subplots(1, 2, figsize=(16, 8))\n",
    "\n",
    "ax[0].plot(T, SA.total_order_indices[0, :], \"r\", label=r\"$m$\")\n",
    "ax[0].plot(T, SA.total_order_indices[1, :], \"g\", label=r\"$c$\")\n",
    "ax[0].plot(T, SA.total_order_indices[2, :], label=r\"$k$\", color=\"royalblue\")\n",
    "ax[0].plot(T, SA.total_order_indices[3, :], label=r\"$\\ell$\", color=\"aquamarine\")\n",
    "\n",
    "ax[0].set_title(\"Total order Sobol indices\", fontsize=16)\n",
    "ax[0].set_xlabel(\"time (s)\", fontsize=16)\n",
    "ax[0].set_ylabel(r\"$S_{T_i}$\", fontsize=16)\n",
    "ax[0].set_xbound(0, t_f)\n",
    "ax[0].set_ybound(-0.2, 1.2)\n",
    "ax[0].legend()\n",
    "\n",
    "ax[1].plot(T, SA.first_order_indices[0, :], \"r\", label=r\"$m$\")\n",
    "ax[1].plot(T, SA.first_order_indices[1, :], \"g\", label=r\"$c$\")\n",
    "ax[1].plot(T, SA.first_order_indices[2, :], label=r\"$k$\", color=\"royalblue\")\n",
    "ax[1].plot(T, SA.first_order_indices[3, :], label=r\"$\\ell$\", color=\"aquamarine\")\n",
    "\n",
    "ax[1].set_title(\"First order Sobol indices\", fontsize=16)\n",
    "ax[1].set_xlabel(\"time (s)\", fontsize=16)\n",
    "ax[1].set_ylabel(r\"$S_i$\", fontsize=16)\n",
    "ax[1].set_xbound(0, t_f)\n",
    "ax[1].set_ybound(-0.2, 1.2)\n",
    "ax[1].legend(fontsize=12)\n",
    "\n",
    "fig.suptitle(\"Pointwise-in-time Sobol indices\", fontsize=20)\n",
    "\n",
    "plt.show()"
   ]
  }
 ],
 "metadata": {
  "kernelspec": {
   "display_name": "Python 3 (ipykernel)",
   "language": "python",
   "name": "python3"
  },
  "language_info": {
   "codemirror_mode": {
    "name": "ipython",
    "version": 3
   },
   "file_extension": ".py",
   "mimetype": "text/x-python",
   "name": "python",
   "nbconvert_exporter": "python",
   "pygments_lexer": "ipython3",
   "version": "3.9.13"
  }
 },
 "nbformat": 4,
 "nbformat_minor": 4
}
