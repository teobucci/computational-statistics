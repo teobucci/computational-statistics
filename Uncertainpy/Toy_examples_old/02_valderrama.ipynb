{
 "cells": [
  {
   "cell_type": "markdown",
   "id": "9f769a7c-9e77-4da7-af95-3eddee80ac38",
   "metadata": {},
   "source": [
    "Here we examine the canonical Hodgkin-Huxley model (Hodgkin and Huxley, 1952). An uncertainty analysis of this model has been performed previously (Valderrama et al., 2015), and we here we repeat a part of that study using Uncertainpy.\n",
    "\n",
    "We implement the Hodgkin-Huxley model as a Python function"
   ]
  },
  {
   "cell_type": "code",
   "execution_count": 1,
   "id": "13256f0d-8e4a-4ece-9505-9fc6a1930b7f",
   "metadata": {},
   "outputs": [],
   "source": [
    "import uncertainpy as un\n",
    "\n",
    "import numpy as np\n",
    "from scipy.integrate import odeint\n",
    "\n",
    "\n",
    "# External stimulus\n",
    "def I(time):\n",
    "    return 140 # micro A/cm**2\n",
    "\n",
    "\n",
    "def valderrama(V_0=-10,\n",
    "               C_m=1,\n",
    "               gbar_Na=120,\n",
    "               gbar_K=36,\n",
    "               gbar_L=0.3,\n",
    "               E_Na=112,\n",
    "               E_K=-12,\n",
    "               E_l=10.613,\n",
    "               m_0=0.0011,\n",
    "               n_0=0.0003,\n",
    "               h_0=0.9998):\n",
    "\n",
    "    # Setup time\n",
    "    end_time = 15          # ms\n",
    "    dt = 0.025             # ms\n",
    "    time = np.arange(0, end_time + dt, dt)\n",
    "\n",
    "    # K channel\n",
    "    def alpha_n(V):\n",
    "        return 0.01*(10 - V)/(np.exp((10 - V)/10.) - 1)\n",
    "\n",
    "\n",
    "    def beta_n(V):\n",
    "        return 0.125*np.exp(-V/80.)\n",
    "\n",
    "    def n_f(n, V):\n",
    "        return alpha_n(V)*(1 - n) - beta_n(V)*n\n",
    "\n",
    "    def n_inf(V):\n",
    "        return alpha_n(V)/(alpha_n(V) + beta_n(V))\n",
    "\n",
    "\n",
    "    # Na channel (activating)\n",
    "    def alpha_m(V):\n",
    "        return 0.1*(25 - V)/(np.exp((25 - V)/10.) - 1)\n",
    "\n",
    "    def beta_m(V):\n",
    "        return 4*np.exp(-V/18.)\n",
    "\n",
    "    def m_f(m, V):\n",
    "        return alpha_m(V)*(1 - m) - beta_m(V)*m\n",
    "\n",
    "    def m_inf(V):\n",
    "        return alpha_m(V)/(alpha_m(V) + beta_m(V))\n",
    "\n",
    "\n",
    "    # Na channel (inactivating)\n",
    "    def alpha_h(V):\n",
    "        return 0.07*np.exp(-V/20.)\n",
    "\n",
    "    def beta_h(V):\n",
    "        return 1/(np.exp((30 - V)/10.) + 1)\n",
    "\n",
    "    def h_f(h, V):\n",
    "        return alpha_h(V)*(1 - h) - beta_h(V)*h\n",
    "\n",
    "    def h_inf(V):\n",
    "        return alpha_h(V)/(alpha_h(V) + beta_h(V))\n",
    "\n",
    "\n",
    "    def dXdt(X, t):\n",
    "        V, h, m, n = X\n",
    "\n",
    "        g_Na = gbar_Na*(m**3)*h\n",
    "        g_K = gbar_K*(n**4)\n",
    "        g_l = gbar_L\n",
    "\n",
    "        dmdt = m_f(m, V)\n",
    "        dhdt = h_f(h, V)\n",
    "        dndt = n_f(n, V)\n",
    "\n",
    "        dVdt = (I(t) - g_Na*(V - E_Na) - g_K*(V - E_K) - g_l*(V - E_l))/C_m\n",
    "\n",
    "        return [dVdt, dhdt, dmdt, dndt]\n",
    "\n",
    "\n",
    "    initial_conditions = [V_0, h_0, m_0, n_0]\n",
    "\n",
    "    X = odeint(dXdt, initial_conditions, time)\n",
    "    values = X[:, 0]\n",
    "\n",
    "    # Only return from 5 seconds onwards, as in the Valderrama paper\n",
    "    values = values[time > 5]\n",
    "    time = time[time > 5]\n",
    "\n",
    "    # Add info needed by certain spiking features and efel features\n",
    "    info = {\"stimulus_start\": time[0], \"stimulus_end\": time[-1]}\n",
    "\n",
    "    return time, values, info"
   ]
  },
  {
   "cell_type": "markdown",
   "id": "fc1dde61-50ae-44c5-b17b-0348f4f739e4",
   "metadata": {},
   "source": [
    "We first initialize our model"
   ]
  },
  {
   "cell_type": "code",
   "execution_count": 2,
   "id": "9391f626-00ab-4b76-958b-a3dd0c12ff86",
   "metadata": {},
   "outputs": [],
   "source": [
    "model = un.Model(run=valderrama,\n",
    "                 labels=[\"Time (ms)\", \"Membrane potential (mV)\"])"
   ]
  },
  {
   "cell_type": "markdown",
   "id": "59202b59-3128-433d-a1d7-a804c1e470a1",
   "metadata": {},
   "source": [
    "Then we create the set of parameters"
   ]
  },
  {
   "cell_type": "code",
   "execution_count": 3,
   "id": "eda0e2dc-1de0-4fb7-b199-23d41421b781",
   "metadata": {},
   "outputs": [],
   "source": [
    "# Define a parameter dictionary\n",
    "parameters = {\"V_0\": -10,\n",
    "              \"C_m\": 1,\n",
    "              \"gbar_Na\": 120,\n",
    "              \"gbar_K\": 36,\n",
    "              \"gbar_L\": 0.3,\n",
    "              \"m_0\": 0.0011,\n",
    "              \"n_0\": 0.0003,\n",
    "              \"h_0\": 0.9998,\n",
    "              \"E_Na\": 112,\n",
    "              \"E_K\": -12,\n",
    "              \"E_l\": 10.613}\n",
    "\n",
    "# Create the parameters\n",
    "parameters = un.Parameters(parameters)"
   ]
  },
  {
   "cell_type": "code",
   "execution_count": 4,
   "id": "3b95612c-069a-4586-a0f0-71e8354fafa2",
   "metadata": {},
   "outputs": [],
   "source": [
    "# Set all parameters to have a uniform distribution\n",
    "# within a 20% (+- 10%) interval around their fixed value\n",
    "parameters.set_all_distributions(un.uniform(0.2))"
   ]
  },
  {
   "cell_type": "markdown",
   "id": "f186e95b-b5e0-4b65-8181-4f838b8b3bbd",
   "metadata": {},
   "source": [
    "Polynomial chaos expansions are recommended as long as the number of uncertain parameters is small (typically >20\n",
    "), as polynomial chaos expansions in these cases are much faster than quasi-Monte Carlo methods.\n",
    "\n",
    "> Attention: this is not true for this case, as the model barely runs"
   ]
  },
  {
   "cell_type": "code",
   "execution_count": 8,
   "id": "5d496540-77e0-48f6-9dde-b5de79eafe22",
   "metadata": {},
   "outputs": [
    {
     "name": "stderr",
     "output_type": "stream",
     "text": [
      "/Users/teo/.pyenv/versions/compstat/lib/python3.9/site-packages/SALib/sample/saltelli.py:94: UserWarning: \n",
      "        Convergence properties of the Sobol' sequence is only valid if\n",
      "        `N` (5000) is equal to `2^n`.\n",
      "        \n",
      "  warnings.warn(msg)\n",
      "Running model: 100%|█████████████████████| 65000/65000 [01:48<00:00, 599.06it/s]\n"
     ]
    },
    {
     "name": "stdout",
     "output_type": "stream",
     "text": [
      "Saving data as: data/valderrama.h5\n"
     ]
    }
   ],
   "source": [
    "# Perform the uncertainty quantification\n",
    "UQ = un.UncertaintyQuantification(model,\n",
    "                                  parameters=parameters)\n",
    "# We set the seed to easier be able to reproduce the result\n",
    "data = UQ.quantify(seed=10, method='mc')"
   ]
  },
  {
   "cell_type": "code",
   "execution_count": 32,
   "id": "0045d8ad-8026-41df-a2c8-4002f1486994",
   "metadata": {},
   "outputs": [],
   "source": [
    "data = un.Data()\n",
    "data.load(\"data/valderrama.h5\")"
   ]
  },
  {
   "cell_type": "code",
   "execution_count": 33,
   "id": "ccea50da-6ade-4603-a2b7-199560599305",
   "metadata": {},
   "outputs": [
    {
     "data": {
      "text/plain": [
       "['uncertain_parameters',\n",
       " 'model_name',\n",
       " 'incomplete',\n",
       " 'method',\n",
       " 'version',\n",
       " 'seed',\n",
       " 'model_ignore',\n",
       " 'error']"
      ]
     },
     "execution_count": 33,
     "metadata": {},
     "output_type": "execute_result"
    }
   ],
   "source": [
    "data.data_information"
   ]
  },
  {
   "cell_type": "code",
   "execution_count": 34,
   "id": "01717277-6d6f-4c91-bbca-c2b0ff7c6652",
   "metadata": {},
   "outputs": [
    {
     "data": {
      "text/plain": [
       "['V_0',\n",
       " 'C_m',\n",
       " 'gbar_Na',\n",
       " 'gbar_K',\n",
       " 'gbar_L',\n",
       " 'm_0',\n",
       " 'n_0',\n",
       " 'h_0',\n",
       " 'E_Na',\n",
       " 'E_K',\n",
       " 'E_l']"
      ]
     },
     "execution_count": 34,
     "metadata": {},
     "output_type": "execute_result"
    }
   ],
   "source": [
    "data.uncertain_parameters"
   ]
  },
  {
   "cell_type": "code",
   "execution_count": 35,
   "id": "beb32de7-d357-41dc-822f-5448b40ef7cc",
   "metadata": {},
   "outputs": [
    {
     "ename": "KeyError",
     "evalue": "'V_0'",
     "output_type": "error",
     "traceback": [
      "\u001b[0;31m---------------------------------------------------------------------------\u001b[0m",
      "\u001b[0;31mKeyError\u001b[0m                                  Traceback (most recent call last)",
      "Cell \u001b[0;32mIn [35], line 1\u001b[0m\n\u001b[0;32m----> 1\u001b[0m \u001b[43mdata\u001b[49m\u001b[43m[\u001b[49m\u001b[38;5;124;43m\"\u001b[39;49m\u001b[38;5;124;43mV_0\u001b[39;49m\u001b[38;5;124;43m\"\u001b[39;49m\u001b[43m]\u001b[49m\u001b[38;5;241m.\u001b[39mvariance\n",
      "File \u001b[0;32m~/.pyenv/versions/compstat/lib/python3.9/site-packages/uncertainpy/data.py:540\u001b[0m, in \u001b[0;36mData.__getitem__\u001b[0;34m(self, feature)\u001b[0m\n\u001b[1;32m    526\u001b[0m \u001b[38;5;28;01mdef\u001b[39;00m \u001b[38;5;21m__getitem__\u001b[39m(\u001b[38;5;28mself\u001b[39m, feature):\n\u001b[1;32m    527\u001b[0m     \u001b[38;5;124;03m\"\"\"\u001b[39;00m\n\u001b[1;32m    528\u001b[0m \u001b[38;5;124;03m    Get the DataFeature containing the data for `feature`.\u001b[39;00m\n\u001b[1;32m    529\u001b[0m \n\u001b[0;32m   (...)\u001b[0m\n\u001b[1;32m    538\u001b[0m \u001b[38;5;124;03m        The DataFeature containing the data for `feature`.\u001b[39;00m\n\u001b[1;32m    539\u001b[0m \u001b[38;5;124;03m    \"\"\"\u001b[39;00m\n\u001b[0;32m--> 540\u001b[0m     \u001b[38;5;28;01mreturn\u001b[39;00m \u001b[38;5;28;43mself\u001b[39;49m\u001b[38;5;241;43m.\u001b[39;49m\u001b[43mdata\u001b[49m\u001b[43m[\u001b[49m\u001b[43mfeature\u001b[49m\u001b[43m]\u001b[49m\n",
      "\u001b[0;31mKeyError\u001b[0m: 'V_0'"
     ]
    }
   ],
   "source": [
    "data[\"V_0\"].variance"
   ]
  }
 ],
 "metadata": {
  "kernelspec": {
   "display_name": "Python 3 (ipykernel)",
   "language": "python",
   "name": "python3"
  },
  "language_info": {
   "codemirror_mode": {
    "name": "ipython",
    "version": 3
   },
   "file_extension": ".py",
   "mimetype": "text/x-python",
   "name": "python",
   "nbconvert_exporter": "python",
   "pygments_lexer": "ipython3",
   "version": "3.9.16"
  }
 },
 "nbformat": 4,
 "nbformat_minor": 5
}
