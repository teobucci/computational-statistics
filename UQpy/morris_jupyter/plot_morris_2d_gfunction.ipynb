{
 "cells": [
  {
   "cell_type": "code",
   "execution_count": null,
   "metadata": {
    "collapsed": false,
    "jupyter": {
     "outputs_hidden": false
    }
   },
   "outputs": [],
   "source": [
    "%matplotlib inline"
   ]
  },
  {
   "cell_type": "markdown",
   "metadata": {},
   "source": [
    "\n",
    "# 2-dimensional g-function\n"
   ]
  },
  {
   "cell_type": "markdown",
   "metadata": {},
   "source": [
    "Initially we have to import the necessary modules.\n",
    "\n"
   ]
  },
  {
   "cell_type": "code",
   "execution_count": null,
   "metadata": {
    "collapsed": false,
    "jupyter": {
     "outputs_hidden": false
    }
   },
   "outputs": [],
   "source": [
    "import shutil\n",
    "\n",
    "from UQpy.run_model.model_execution.PythonModel import PythonModel\n",
    "from UQpy.run_model.RunModel import RunModel\n",
    "from UQpy.distributions import Uniform\n",
    "from UQpy.sensitivity import MorrisSensitivity\n",
    "import numpy as np\n",
    "import matplotlib.pyplot as plt"
   ]
  },
  {
   "cell_type": "markdown",
   "metadata": {},
   "source": [
    "Set-up problem with g-function.\n",
    "\n"
   ]
  },
  {
   "cell_type": "code",
   "execution_count": null,
   "metadata": {
    "collapsed": false,
    "jupyter": {
     "outputs_hidden": false
    }
   },
   "outputs": [],
   "source": [
    "a_values = [0.001, 99.]\n",
    "na = len(a_values)\n",
    "\n",
    "model = PythonModel(model_script='local_pfn.py', model_object_name='gfun_sensitivity', delete_files=True,\n",
    "                    a_values=a_values, var_names=['X{}'.format(i) for i in range(na)])\n",
    "runmodel_object = RunModel(model=model)\n",
    "\n",
    "dist_object = [Uniform(), ] * na"
   ]
  },
  {
   "cell_type": "markdown",
   "metadata": {},
   "source": [
    "First plot contour of the function, clearly X2 has little influence on the function compared to X1.\n",
    "\n"
   ]
  },
  {
   "cell_type": "code",
   "execution_count": null,
   "metadata": {
    "collapsed": false,
    "jupyter": {
     "outputs_hidden": false
    }
   },
   "outputs": [],
   "source": [
    "x = np.arange(0, 1, 0.02)\n",
    "y = np.arange(0, 1, 0.02)\n",
    "xx, yy = np.meshgrid(x, y, sparse=False)\n",
    "runmodel_object.run(samples=np.vstack([xx.reshape((-1,)), yy.reshape((-1,))]).T, append_samples=False)\n",
    "h = plt.contourf(x, y, np.array(runmodel_object.qoi_list).reshape(xx.shape))\n",
    "plt.xlabel('X1')\n",
    "plt.ylabel('X2')\n",
    "plt.show()\n",
    "\n",
    "sens = MorrisSensitivity(runmodel_object=runmodel_object,\n",
    "                         distributions=dist_object,\n",
    "                         n_levels=9)\n",
    "sens.run(n_trajectories=10)\n",
    "\n",
    "fig, ax = plt.subplots(figsize=(4, 4))\n",
    "for trajectory in sens.trajectories_physical_space[:5]:\n",
    "    ax.plot(trajectory[:, 0], trajectory[:, 1], marker='x', linewidth=3)\n",
    "ax.set_xlim([0, 1])\n",
    "ax.set_ylim([0, 1])\n",
    "ax.set_xticks(np.arange(0., 1. + 0.5 / (sens.n_levels - 1), 1. / (sens.n_levels - 1)), minor=True)\n",
    "ax.set_xticks([0., 1.], minor=False)\n",
    "ax.set_xticklabels([0., 1.])\n",
    "ax.set_yticks(np.arange(0., 1. + 0.5 / (sens.n_levels - 1), 1. / (sens.n_levels - 1)), minor=True)\n",
    "ax.set_yticks([0., 1.], minor=False)\n",
    "ax.set_yticklabels([0., 1.])\n",
    "ax.grid(True, which='both')\n",
    "ax.set_xlabel(r'$X_{1}$', fontsize=14)\n",
    "ax.set_ylabel(r'$X_{2}$', fontsize=14)\n",
    "plt.show()\n",
    "\n",
    "print(['a{}={}'.format(i + 1, ai) for i, ai in enumerate(a_values)])\n",
    "\n",
    "fig, ax = plt.subplots()\n",
    "ax.scatter(sens.mustar_indices, sens.sigma_indices)\n",
    "for i, (mu, sig) in enumerate(zip(sens.mustar_indices, sens.sigma_indices)):\n",
    "    ax.text(x=mu + 0.01, y=sig + 0.01, s='X{}'.format(i + 1))\n",
    "ax.set_xlabel(r'$\\mu^{\\star}$', fontsize=14)\n",
    "ax.set_ylabel(r'$\\sigma$', fontsize=14)\n",
    "ax.set_title('Morris sensitivity indices', fontsize=16)\n",
    "plt.show()"
   ]
  }
 ],
 "metadata": {
  "kernelspec": {
   "display_name": "Python 3 (ipykernel)",
   "language": "python",
   "name": "python3"
  },
  "language_info": {
   "codemirror_mode": {
    "name": "ipython",
    "version": 3
   },
   "file_extension": ".py",
   "mimetype": "text/x-python",
   "name": "python",
   "nbconvert_exporter": "python",
   "pygments_lexer": "ipython3",
   "version": "3.9.16"
  }
 },
 "nbformat": 4,
 "nbformat_minor": 4
}
