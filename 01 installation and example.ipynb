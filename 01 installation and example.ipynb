{
 "cells": [
  {
   "cell_type": "markdown",
   "id": "af12231d-fc58-471d-a205-ed6bfc8f49e3",
   "metadata": {},
   "source": [
    "Minimum install of uncertainpy according to [the documentation](https://github.com/simetenn/uncertainpy#installation)."
   ]
  },
  {
   "cell_type": "code",
   "execution_count": 3,
   "id": "ccb674b4-0f69-48f6-bfae-6679a9c964d9",
   "metadata": {},
   "outputs": [],
   "source": [
    "#!pip install uncertainpy"
   ]
  },
  {
   "cell_type": "markdown",
   "id": "f864ff77-2fa7-4c98-a16a-e392975a7341",
   "metadata": {},
   "source": [
    "Running the [example](https://github.com/simetenn/uncertainpy#installation).\n",
    "We start by importing the packages we use"
   ]
  },
  {
   "cell_type": "code",
   "execution_count": 3,
   "id": "21a258a5-dfa5-4f2d-bdfc-97b9ea43c593",
   "metadata": {},
   "outputs": [
    {
     "name": "stderr",
     "output_type": "stream",
     "text": [
      "Fontconfig warning: ignoring UTF-8: not a valid region tag\n"
     ]
    }
   ],
   "source": [
    "import uncertainpy as un\n",
    "import numpy as np                   # For the time array\n",
    "import chaospy as cp                 # To create distributions\n",
    "from scipy.integrate import odeint   # To integrate our equation"
   ]
  },
  {
   "cell_type": "markdown",
   "id": "c684bc90-7a05-49b3-86c4-7f2199c3c397",
   "metadata": {},
   "source": [
    "Surprisingly it worked"
   ]
  },
  {
   "cell_type": "code",
   "execution_count": 4,
   "id": "74b5e836-a751-4cbd-9e32-8f4cdd2adf31",
   "metadata": {},
   "outputs": [],
   "source": [
    "# Create the coffee cup model function\n",
    "def coffee_cup(kappa, T_env):\n",
    "    # Initial temperature and time array\n",
    "    time = np.linspace(0, 200, 150)            # Minutes\n",
    "    T_0 = 95                                   # Celsius\n",
    "\n",
    "    # The equation describing the model\n",
    "    def f(T, time, kappa, T_env):\n",
    "        return -kappa*(T - T_env)\n",
    "\n",
    "    # Solving the equation by integration.\n",
    "    temperature = odeint(f, T_0, time, args=(kappa, T_env))[:, 0]\n",
    "\n",
    "    # Return time and model output\n",
    "    return time, temperature"
   ]
  },
  {
   "cell_type": "code",
   "execution_count": 5,
   "id": "00b4cfc6-1130-4f85-84ff-523c83ebe386",
   "metadata": {},
   "outputs": [],
   "source": [
    "# Create a model from the coffee_cup function and add labels\n",
    "model = un.Model(run=coffee_cup, labels=[\"Time (min)\", \"Temperature (C)\"])"
   ]
  },
  {
   "cell_type": "code",
   "execution_count": 6,
   "id": "709a4137-ff7b-4257-b686-a5f7a9ed20ea",
   "metadata": {},
   "outputs": [],
   "source": [
    "# Create the distributions\n",
    "kappa_dist = cp.Uniform(0.025, 0.075)\n",
    "T_env_dist = cp.Uniform(15, 25)\n",
    "\n",
    "# Define the parameter dictionary\n",
    "parameters = {\"kappa\": kappa_dist, \"T_env\": T_env_dist}"
   ]
  },
  {
   "cell_type": "code",
   "execution_count": 7,
   "id": "e1ff3aef-eb85-4e46-9d00-149c45342e45",
   "metadata": {},
   "outputs": [
    {
     "name": "stderr",
     "output_type": "stream",
     "text": [
      "chaospy.orth_ttr name is to be deprecated; Use chaospy.expansion.stieltjes instead\n",
      "Running model: 100%|████████████████████████| 32/32 [00:00<00:00, 352277.50it/s]\n",
      "Calculating PC for each feature: 100%|███████████| 1/1 [00:00<00:00, 172.14it/s]\n",
      "Calculating statistics from PCE: 100%|████████████| 1/1 [00:00<00:00,  1.92it/s]\n"
     ]
    },
    {
     "name": "stdout",
     "output_type": "stream",
     "text": [
      "Saving data as: data/coffee_cup.h5\n"
     ]
    }
   ],
   "source": [
    "# Set up the uncertainty quantification\n",
    "UQ = un.UncertaintyQuantification(model=model,\n",
    "                                  parameters=parameters)\n",
    "\n",
    "# Perform the uncertainty quantification using\n",
    "# polynomial chaos with point collocation (by default)\n",
    "data = UQ.quantify()"
   ]
  }
 ],
 "metadata": {
  "kernelspec": {
   "display_name": "Computational Statistics",
   "language": "python",
   "name": "compstat"
  },
  "language_info": {
   "codemirror_mode": {
    "name": "ipython",
    "version": 3
   },
   "file_extension": ".py",
   "mimetype": "text/x-python",
   "name": "python",
   "nbconvert_exporter": "python",
   "pygments_lexer": "ipython3",
   "version": "3.9.13"
  }
 },
 "nbformat": 4,
 "nbformat_minor": 5
}
