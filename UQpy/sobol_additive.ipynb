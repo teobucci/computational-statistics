{
 "cells": [
  {
   "cell_type": "code",
   "execution_count": 2,
   "metadata": {
    "id": "-opsoGmncPPd"
   },
   "outputs": [],
   "source": [
    "import matplotlib.pyplot as plt\n",
    "%matplotlib inline\n",
    "%config InlineBackend.figure_format='retina'"
   ]
  },
  {
   "cell_type": "markdown",
   "metadata": {},
   "source": [
    "Some plotting functions of `UQpy` require the newest version of Matplotlib, but shitty `uncertainpy` only accepts versions under 3.2. So before using notebooks with `UQpy` make sure to upgrade:"
   ]
  },
  {
   "cell_type": "code",
   "execution_count": null,
   "metadata": {},
   "outputs": [],
   "source": [
    "!pip install UQpy\n",
    "!pip install --upgrade matplotlib"
   ]
  },
  {
   "cell_type": "code",
   "execution_count": 12,
   "metadata": {
    "colab": {
     "base_uri": "https://localhost:8080/"
    },
    "executionInfo": {
     "elapsed": 2766,
     "status": "ok",
     "timestamp": 1679172744811,
     "user": {
      "displayName": "Teo Bucci",
      "userId": "15270228491323971360"
     },
     "user_tz": -60
    },
    "id": "bH2uYjQsekQV",
    "outputId": "4cbf69ba-d3e4-4f50-c28a-057d19d1816f"
   },
   "outputs": [
    {
     "name": "stdout",
     "output_type": "stream",
     "text": [
      "Drive already mounted at /gdrive; to attempt to forcibly remount, call drive.mount(\"/gdrive\", force_remount=True).\n",
      "/gdrive/My Drive/Colab Notebooks/CompStat/sobol_jupyter\n"
     ]
    }
   ],
   "source": [
    "from google.colab import drive\n",
    "drive.mount('/gdrive')\n",
    "%cd /gdrive/My Drive/Colab Notebooks/CompStat/sobol_jupyter"
   ]
  },
  {
   "cell_type": "code",
   "execution_count": 3,
   "metadata": {
    "colab": {
     "base_uri": "https://localhost:8080/",
     "height": 35
    },
    "executionInfo": {
     "elapsed": 418,
     "status": "ok",
     "timestamp": 1679172751062,
     "user": {
      "displayName": "Teo Bucci",
      "userId": "15270228491323971360"
     },
     "user_tz": -60
    },
    "id": "kWNy6fMFe6tK",
    "outputId": "034110b1-4040-4368-d9f4-cf2d205f2390"
   },
   "outputs": [
    {
     "data": {
      "text/plain": [
       "'/Users/teo/Documents/GitHub/computational-statistics/UQpy'"
      ]
     },
     "execution_count": 3,
     "metadata": {},
     "output_type": "execute_result"
    }
   ],
   "source": [
    "pwd"
   ]
  },
  {
   "cell_type": "markdown",
   "metadata": {
    "id": "KVu_sFJ1cPPg"
   },
   "source": [
    "\n",
    "# Additive function\n",
    "\n",
    "We introduce the variance-based Sobol indices using an elementary example. \n",
    "For more details, refer [1]_.\n",
    "\n",
    "\\begin{align}f(x) = a \\cdot X_1 + b \\cdot X_2, \\quad X_1, X_2 \\sim \\mathcal{N}(0, 1), \\quad a,b \\in \\mathbb{R}\\end{align}\n",
    "\n",
    ".. [1] Saltelli A, T. (2008). Global sensitivity analysis: The primer. John Wiley.\n"
   ]
  },
  {
   "cell_type": "code",
   "execution_count": 3,
   "metadata": {
    "executionInfo": {
     "elapsed": 3830,
     "status": "ok",
     "timestamp": 1679171894784,
     "user": {
      "displayName": "Teo Bucci",
      "userId": "15270228491323971360"
     },
     "user_tz": -60
    },
    "id": "lo1MvQAYcPPh"
   },
   "outputs": [],
   "source": [
    "import numpy as np\n",
    "\n",
    "from UQpy.run_model.RunModel import RunModel\n",
    "from UQpy.run_model.model_execution.PythonModel import PythonModel\n",
    "from UQpy.distributions import Normal\n",
    "from UQpy.distributions.collection.JointIndependent import JointIndependent\n",
    "from UQpy.sensitivity.SobolSensitivity import SobolSensitivity\n",
    "from UQpy.sensitivity.PostProcess import *\n",
    "\n",
    "np.random.seed(123)"
   ]
  },
  {
   "cell_type": "markdown",
   "metadata": {
    "id": "gQ8wPM6dcPPi"
   },
   "source": [
    "**Define the model and input distributions**\n",
    "\n"
   ]
  },
  {
   "cell_type": "code",
   "execution_count": 4,
   "metadata": {
    "executionInfo": {
     "elapsed": 408,
     "status": "ok",
     "timestamp": 1679172970500,
     "user": {
      "displayName": "Teo Bucci",
      "userId": "15270228491323971360"
     },
     "user_tz": -60
    },
    "id": "J5h6APjgcPPi"
   },
   "outputs": [],
   "source": [
    "# Create Model object\n",
    "a, b = 1, 2\n",
    "\n",
    "model = PythonModel(\n",
    "    model_script=\"local_additive.py\",\n",
    "    model_object_name=\"evaluate\",\n",
    "    var_names=[\n",
    "        \"X_1\",\n",
    "        \"X_2\",\n",
    "    ],\n",
    "    delete_files=True,\n",
    "    params=[a, b],\n",
    ")\n",
    "\n",
    "runmodel_obj = RunModel(model=model)\n",
    "\n",
    "# Define distribution object\n",
    "dist_object = JointIndependent([Normal(0, 1)] * 2)"
   ]
  },
  {
   "cell_type": "markdown",
   "metadata": {
    "id": "S9dtdLZXcPPj"
   },
   "source": [
    "**Compute Sobol indices**\n",
    "\n"
   ]
  },
  {
   "cell_type": "code",
   "execution_count": 5,
   "metadata": {
    "colab": {
     "base_uri": "https://localhost:8080/",
     "height": 443
    },
    "executionInfo": {
     "elapsed": 7,
     "status": "error",
     "timestamp": 1679172862475,
     "user": {
      "displayName": "Teo Bucci",
      "userId": "15270228491323971360"
     },
     "user_tz": -60
    },
    "id": "jWGcpU9LcPPj",
    "outputId": "c036d326-2a8b-49df-aad6-158632bbd6df"
   },
   "outputs": [],
   "source": [
    "SA = SobolSensitivity(runmodel_obj, dist_object)\n",
    "\n",
    "SA.run(n_samples=50_000)"
   ]
  },
  {
   "cell_type": "markdown",
   "metadata": {
    "id": "lB0WvDpXcPPj"
   },
   "source": [
    "**First order Sobol indices**\n",
    "\n",
    "Expected first order Sobol indices:\n",
    "\n",
    "$\\mathrm{S}_1 = \\frac{a^2 \\cdot \\mathbb{V}[X_1]}{a^2 \\cdot \\mathbb{V}[X_1] + b^2 \\cdot \\mathbb{V}[X_2]} = \\frac{1^2 \\cdot 1}{1^2 \\cdot 1 + 2^2 \\cdot 1} = 0.2$\n",
    "\n",
    "$\\mathrm{S}_2 = \\frac{b^2 \\cdot \\mathbb{V}[X_2]}{a^2 \\cdot \\mathbb{V}[X_1] + b^2 \\cdot \\mathbb{V}[X_2]} = \\frac{2^2 \\cdot 1}{1^2 \\cdot 1 + 2^2 \\cdot 1} = 0.8$\n",
    "\n"
   ]
  },
  {
   "cell_type": "code",
   "execution_count": 6,
   "metadata": {
    "id": "r723x-jVcPPj"
   },
   "outputs": [
    {
     "data": {
      "text/plain": [
       "array([[0.19403013],\n",
       "       [0.80059683]])"
      ]
     },
     "execution_count": 6,
     "metadata": {},
     "output_type": "execute_result"
    }
   ],
   "source": [
    "SA.first_order_indices"
   ]
  },
  {
   "cell_type": "markdown",
   "metadata": {
    "id": "HheP5VLtcPPk"
   },
   "source": [
    "**Plot the first and total order sensitivity indices**\n",
    "\n"
   ]
  },
  {
   "cell_type": "code",
   "execution_count": 7,
   "metadata": {
    "id": "2yEbt6XScPPk"
   },
   "outputs": [
    {
     "data": {
      "image/png": "[encoded data removed]",
      "text/plain": [
       "<Figure size 640x480 with 1 Axes>"
      ]
     },
     "metadata": {
      "image/png": {
       "height": 455,
       "width": 547
      }
     },
     "output_type": "display_data"
    }
   ],
   "source": [
    "fig1, ax1 = plot_index_comparison(\n",
    "    SA.first_order_indices[:, 0],\n",
    "    SA.total_order_indices[:, 0],\n",
    "    label_1=\"First order Sobol indices\",\n",
    "    label_2=\"Total order Sobol indices\",\n",
    "    plot_title=\"First and Total order Sobol indices\",\n",
    ")"
   ]
  }
 ],
 "metadata": {
  "colab": {
   "provenance": []
  },
  "kernelspec": {
   "display_name": "Python 3 (ipykernel)",
   "language": "python",
   "name": "python3"
  },
  "language_info": {
   "codemirror_mode": {
    "name": "ipython",
    "version": 3
   },
   "file_extension": ".py",
   "mimetype": "text/x-python",
   "name": "python",
   "nbconvert_exporter": "python",
   "pygments_lexer": "ipython3",
   "version": "3.9.13"
  }
 },
 "nbformat": 4,
 "nbformat_minor": 4
}
