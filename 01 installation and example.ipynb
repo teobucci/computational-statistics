{
 "cells": [
  {
   "cell_type": "markdown",
   "id": "af12231d-fc58-471d-a205-ed6bfc8f49e3",
   "metadata": {},
   "source": [
    "Minimum install of uncertainpy according to [the documentation](https://github.com/simetenn/uncertainpy#installation)."
   ]
  },
  {
   "cell_type": "code",
   "execution_count": 2,
   "id": "ccb674b4-0f69-48f6-bfae-6679a9c964d9",
   "metadata": {},
   "outputs": [
    {
     "name": "stdout",
     "output_type": "stream",
     "text": [
      "Collecting uncertainpy\n",
      "  Using cached uncertainpy-1.2.3.tar.gz (89 kB)\n",
      "  Preparing metadata (setup.py) ... \u001b[?25ldone\n",
      "\u001b[?25hCollecting chaospy>=4.0.0\n",
      "  Using cached chaospy-4.3.8-py3-none-any.whl (252 kB)\n",
      "Collecting tqdm\n",
      "  Using cached tqdm-4.64.1-py2.py3-none-any.whl (78 kB)\n",
      "Collecting h5py\n",
      "  Downloading h5py-3.7.0-cp39-cp39-macosx_11_0_arm64.whl (2.6 MB)\n",
      "\u001b[2K     \u001b[38;2;114;156;31m━━━━━━━━━━━━━━━━━━━━━━━━━━━━━━━━━━━━━━━━\u001b[0m \u001b[32m2.6/2.6 MB\u001b[0m \u001b[31m621.0 kB/s\u001b[0m eta \u001b[36m0:00:00\u001b[0mm eta \u001b[36m0:00:01\u001b[0m[36m0:00:01\u001b[0m\n",
      "\u001b[?25hCollecting multiprocess\n",
      "  Downloading multiprocess-0.70.14-py39-none-any.whl (132 kB)\n",
      "\u001b[2K     \u001b[38;2;114;156;31m━━━━━━━━━━━━━━━━━━━━━━━━━━━━━━━━━━━━━\u001b[0m \u001b[32m132.9/132.9 kB\u001b[0m \u001b[31m357.7 kB/s\u001b[0m eta \u001b[36m0:00:00\u001b[0m kB/s\u001b[0m eta \u001b[36m0:00:01\u001b[0m:01\u001b[0m\n",
      "\u001b[?25hCollecting numpy>=1.16\n",
      "  Downloading numpy-1.23.4-cp39-cp39-macosx_11_0_arm64.whl (13.4 MB)\n",
      "\u001b[2K     \u001b[38;2;114;156;31m━━━━━━━━━━━━━━━━━━━━━━━━━━━━━━━━━━━━━━━\u001b[0m \u001b[32m13.4/13.4 MB\u001b[0m \u001b[31m868.1 kB/s\u001b[0m eta \u001b[36m0:00:00\u001b[0mm eta \u001b[36m0:00:01\u001b[0m[36m0:00:01\u001b[0m\n",
      "\u001b[?25hCollecting scipy>=1.4.1\n",
      "  Downloading scipy-1.9.3-cp39-cp39-macosx_12_0_arm64.whl (28.6 MB)\n",
      "\u001b[2K     \u001b[38;2;114;156;31m━━━━━━━━━━━━━━━━━━━━━━━━━━━━━━━━━━━━━━━\u001b[0m \u001b[32m28.6/28.6 MB\u001b[0m \u001b[31m570.7 kB/s\u001b[0m eta \u001b[36m0:00:00\u001b[0mm eta \u001b[36m0:00:01\u001b[0m[36m0:00:02\u001b[0m\n",
      "\u001b[?25hCollecting seaborn\n",
      "  Using cached seaborn-0.12.1-py3-none-any.whl (288 kB)\n",
      "Collecting matplotlib<3.2,>=3\n",
      "  Using cached matplotlib-3.1.3.tar.gz (40.9 MB)\n",
      "  Preparing metadata (setup.py) ... \u001b[?25ldone\n",
      "\u001b[?25hCollecting xvfbwrapper\n",
      "  Using cached xvfbwrapper-0.2.9.tar.gz (5.6 kB)\n",
      "  Preparing metadata (setup.py) ... \u001b[?25ldone\n",
      "\u001b[?25hRequirement already satisfied: six in /Users/teo/.pyenv/versions/3.9.13/envs/compstat/lib/python3.9/site-packages (from uncertainpy) (1.16.0)\n",
      "Collecting exdir\n",
      "  Using cached exdir-0.4.2-py3-none-any.whl (28 kB)\n",
      "Collecting ruamel.yaml\n",
      "  Using cached ruamel.yaml-0.17.21-py3-none-any.whl (109 kB)\n",
      "Collecting salib\n",
      "  Using cached salib-1.4.6.1-py3-none-any.whl (758 kB)\n",
      "Collecting numpoly\n",
      "  Using cached numpoly-1.2.3-py3-none-any.whl (147 kB)\n",
      "Collecting cycler>=0.10\n",
      "  Using cached cycler-0.11.0-py3-none-any.whl (6.4 kB)\n",
      "Collecting kiwisolver>=1.0.1\n",
      "  Downloading kiwisolver-1.4.4-cp39-cp39-macosx_11_0_arm64.whl (63 kB)\n",
      "\u001b[2K     \u001b[38;2;114;156;31m━━━━━━━━━━━━━━━━━━━━━━━━━━━━━━━━━━━━━━━\u001b[0m \u001b[32m63.2/63.2 kB\u001b[0m \u001b[31m359.1 kB/s\u001b[0m eta \u001b[36m0:00:00\u001b[0m1m443.3 kB/s\u001b[0m eta \u001b[36m0:00:01\u001b[0m\n",
      "\u001b[?25hRequirement already satisfied: pyparsing!=2.0.4,!=2.1.2,!=2.1.6,>=2.0.1 in /Users/teo/.pyenv/versions/3.9.13/envs/compstat/lib/python3.9/site-packages (from matplotlib<3.2,>=3->uncertainpy) (3.0.9)\n",
      "Requirement already satisfied: python-dateutil>=2.1 in /Users/teo/.pyenv/versions/3.9.13/envs/compstat/lib/python3.9/site-packages (from matplotlib<3.2,>=3->uncertainpy) (2.8.2)\n",
      "Collecting ruamel.yaml.clib>=0.2.6\n",
      "  Downloading ruamel.yaml.clib-0.2.7-cp39-cp39-macosx_12_0_arm64.whl (130 kB)\n",
      "\u001b[2K     \u001b[38;2;114;156;31m━━━━━━━━━━━━━━━━━━━━━━━━━━━━━━━━━━━━━━━\u001b[0m \u001b[32m130.8/130.8 kB\u001b[0m \u001b[31m1.1 MB/s\u001b[0m eta \u001b[36m0:00:00\u001b[0m[31m1.3 MB/s\u001b[0m eta \u001b[36m0:00:01\u001b[0m\n",
      "\u001b[?25hCollecting dill>=0.3.6\n",
      "  Using cached dill-0.3.6-py3-none-any.whl (110 kB)\n",
      "Collecting salib\n",
      "  Using cached salib-1.4.6-py3-none-any.whl (758 kB)\n",
      "  Using cached SALib-1.4.5-py2.py3-none-any.whl (756 kB)\n",
      "Collecting pathos\n",
      "  Using cached pathos-0.3.0-py3-none-any.whl (79 kB)\n",
      "Collecting pandas\n",
      "  Downloading pandas-1.5.1-cp39-cp39-macosx_11_0_arm64.whl (10.9 MB)\n",
      "\u001b[2K     \u001b[38;2;114;156;31m━━━━━━━━━━━━━━━━━━━━━━━━━━━━━━━━━━━━━━━\u001b[0m \u001b[32m10.9/10.9 MB\u001b[0m \u001b[31m495.8 kB/s\u001b[0m eta \u001b[36m0:00:00\u001b[0mm eta \u001b[36m0:00:01\u001b[0m[36m0:00:01\u001b[0m\n",
      "\u001b[?25hCollecting wheel\n",
      "  Using cached wheel-0.37.1-py2.py3-none-any.whl (35 kB)\n",
      "Requirement already satisfied: setuptools in /Users/teo/.pyenv/versions/3.9.13/envs/compstat/lib/python3.9/site-packages (from salib->uncertainpy) (58.1.0)\n",
      "Requirement already satisfied: pytz>=2020.1 in /Users/teo/.pyenv/versions/3.9.13/envs/compstat/lib/python3.9/site-packages (from pandas->salib->uncertainpy) (2022.6)\n",
      "Collecting ppft>=1.7.6.6\n",
      "  Using cached ppft-1.7.6.6-py3-none-any.whl (52 kB)\n",
      "Collecting pox>=0.3.2\n",
      "  Using cached pox-0.3.2-py3-none-any.whl (29 kB)\n",
      "Installing collected packages: xvfbwrapper, wheel, tqdm, ruamel.yaml.clib, ppft, pox, numpy, kiwisolver, dill, cycler, scipy, ruamel.yaml, pandas, numpoly, multiprocess, matplotlib, h5py, seaborn, pathos, exdir, chaospy, salib, uncertainpy\n",
      "\u001b[33m  DEPRECATION: xvfbwrapper is being installed using the legacy 'setup.py install' method, because it does not have a 'pyproject.toml' and the 'wheel' package is not installed. pip 23.1 will enforce this behaviour change. A possible replacement is to enable the '--use-pep517' option. Discussion can be found at https://github.com/pypa/pip/issues/8559\u001b[0m\u001b[33m\n",
      "\u001b[0m  Running setup.py install for xvfbwrapper ... \u001b[?25ldone\n",
      "\u001b[33m  DEPRECATION: matplotlib is being installed using the legacy 'setup.py install' method, because it does not have a 'pyproject.toml' and the 'wheel' package is not installed. pip 23.1 will enforce this behaviour change. A possible replacement is to enable the '--use-pep517' option. Discussion can be found at https://github.com/pypa/pip/issues/8559\u001b[0m\u001b[33m\n",
      "\u001b[0m\u001b[?25h  Running setup.py install for matplotlib ... \u001b[?25ldone\n",
      "\u001b[33m  DEPRECATION: uncertainpy is being installed using the legacy 'setup.py install' method, because it does not have a 'pyproject.toml' and the 'wheel' package is not installed. pip 23.1 will enforce this behaviour change. A possible replacement is to enable the '--use-pep517' option. Discussion can be found at https://github.com/pypa/pip/issues/8559\u001b[0m\u001b[33m\n",
      "\u001b[0m\u001b[?25h  Running setup.py install for uncertainpy ... \u001b[?25ldone\n",
      "\u001b[?25hSuccessfully installed chaospy-4.3.8 cycler-0.11.0 dill-0.3.6 exdir-0.4.2 h5py-3.7.0 kiwisolver-1.4.4 matplotlib-3.1.3 multiprocess-0.70.14 numpoly-1.2.3 numpy-1.23.4 pandas-1.5.1 pathos-0.3.0 pox-0.3.2 ppft-1.7.6.6 ruamel.yaml-0.17.21 ruamel.yaml.clib-0.2.7 salib-1.4.5 scipy-1.9.3 seaborn-0.12.1 tqdm-4.64.1 uncertainpy-1.2.3 wheel-0.37.1 xvfbwrapper-0.2.9\n"
     ]
    }
   ],
   "source": [
    "!pip install uncertainpy"
   ]
  },
  {
   "cell_type": "markdown",
   "id": "f864ff77-2fa7-4c98-a16a-e392975a7341",
   "metadata": {},
   "source": [
    "Running the [example](https://github.com/simetenn/uncertainpy#installation).\n",
    "We start by importing the packages we use"
   ]
  },
  {
   "cell_type": "code",
   "execution_count": 3,
   "id": "21a258a5-dfa5-4f2d-bdfc-97b9ea43c593",
   "metadata": {},
   "outputs": [
    {
     "name": "stderr",
     "output_type": "stream",
     "text": [
      "Fontconfig warning: ignoring UTF-8: not a valid region tag\n"
     ]
    }
   ],
   "source": [
    "import uncertainpy as un\n",
    "import numpy as np                   # For the time array\n",
    "import chaospy as cp                 # To create distributions\n",
    "from scipy.integrate import odeint   # To integrate our equation"
   ]
  },
  {
   "cell_type": "markdown",
   "id": "c684bc90-7a05-49b3-86c4-7f2199c3c397",
   "metadata": {},
   "source": [
    "Surprisingly it worked"
   ]
  },
  {
   "cell_type": "code",
   "execution_count": 4,
   "id": "74b5e836-a751-4cbd-9e32-8f4cdd2adf31",
   "metadata": {},
   "outputs": [],
   "source": [
    "# Create the coffee cup model function\n",
    "def coffee_cup(kappa, T_env):\n",
    "    # Initial temperature and time array\n",
    "    time = np.linspace(0, 200, 150)            # Minutes\n",
    "    T_0 = 95                                   # Celsius\n",
    "\n",
    "    # The equation describing the model\n",
    "    def f(T, time, kappa, T_env):\n",
    "        return -kappa*(T - T_env)\n",
    "\n",
    "    # Solving the equation by integration.\n",
    "    temperature = odeint(f, T_0, time, args=(kappa, T_env))[:, 0]\n",
    "\n",
    "    # Return time and model output\n",
    "    return time, temperature"
   ]
  },
  {
   "cell_type": "code",
   "execution_count": 5,
   "id": "00b4cfc6-1130-4f85-84ff-523c83ebe386",
   "metadata": {},
   "outputs": [],
   "source": [
    "# Create a model from the coffee_cup function and add labels\n",
    "model = un.Model(run=coffee_cup, labels=[\"Time (min)\", \"Temperature (C)\"])"
   ]
  },
  {
   "cell_type": "code",
   "execution_count": 6,
   "id": "709a4137-ff7b-4257-b686-a5f7a9ed20ea",
   "metadata": {},
   "outputs": [],
   "source": [
    "# Create the distributions\n",
    "kappa_dist = cp.Uniform(0.025, 0.075)\n",
    "T_env_dist = cp.Uniform(15, 25)\n",
    "\n",
    "# Define the parameter dictionary\n",
    "parameters = {\"kappa\": kappa_dist, \"T_env\": T_env_dist}"
   ]
  },
  {
   "cell_type": "code",
   "execution_count": 7,
   "id": "e1ff3aef-eb85-4e46-9d00-149c45342e45",
   "metadata": {},
   "outputs": [
    {
     "name": "stderr",
     "output_type": "stream",
     "text": [
      "chaospy.orth_ttr name is to be deprecated; Use chaospy.expansion.stieltjes instead\n",
      "Running model: 100%|████████████████████████| 32/32 [00:00<00:00, 352277.50it/s]\n",
      "Calculating PC for each feature: 100%|███████████| 1/1 [00:00<00:00, 172.14it/s]\n",
      "Calculating statistics from PCE: 100%|████████████| 1/1 [00:00<00:00,  1.92it/s]\n"
     ]
    },
    {
     "name": "stdout",
     "output_type": "stream",
     "text": [
      "Saving data as: data/coffee_cup.h5\n"
     ]
    }
   ],
   "source": [
    "# Set up the uncertainty quantification\n",
    "UQ = un.UncertaintyQuantification(model=model,\n",
    "                                  parameters=parameters)\n",
    "\n",
    "# Perform the uncertainty quantification using\n",
    "# polynomial chaos with point collocation (by default)\n",
    "data = UQ.quantify()"
   ]
  }
 ],
 "metadata": {
  "kernelspec": {
   "display_name": "Computational Statistics",
   "language": "python",
   "name": "computational-statistics"
  },
  "language_info": {
   "codemirror_mode": {
    "name": "ipython",
    "version": 3
   },
   "file_extension": ".py",
   "mimetype": "text/x-python",
   "name": "python",
   "nbconvert_exporter": "python",
   "pygments_lexer": "ipython3",
   "version": "3.9.13"
  }
 },
 "nbformat": 4,
 "nbformat_minor": 5
}
