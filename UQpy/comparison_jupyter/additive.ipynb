{
 "cells": [
  {
   "cell_type": "code",
   "execution_count": 4,
   "metadata": {
    "collapsed": false,
    "jupyter": {
     "outputs_hidden": false
    }
   },
   "outputs": [],
   "source": [
    "%matplotlib inline"
   ]
  },
  {
   "cell_type": "markdown",
   "metadata": {},
   "source": [
    "\n",
    "# Additive function\n",
    "\n",
    "We use an elementary example to intuitively convey the sensitivities according to \n",
    "different metrics.\n",
    "\n",
    "\\begin{align}f(x) = a \\cdot X_1 + b \\cdot X_2, \\quad X_1, X_2 \\sim \\mathcal{N}(0, 1), \\quad a,b \\in \\mathbb{R}\\end{align}\n",
    "\n",
    "In the plot below, we note that the indices provide different sensitivities for the two \n",
    "inputs. The variance-based Sobol indices use variance as a metric to quantify \n",
    "sensitivity, whereas the Chatterjee/Cramér-von Mises indices use the entire probability \n",
    "distribution function (PDF) to quantify the sensitivity. In general, moment-free indices \n",
    "provide a more holistic measure of sensitivity unlike the variance-based indices, which \n",
    "are accurate mainly when the output distribution close to a Gaussian (see [1]_ for a\n",
    "motivating example).   \n",
    "\n",
    ".. [1] Borgonovo, E. (2006). Measuring uncertainty importance: Investigation and comparison of alternative approaches. Risk Analysis, 26(5), 1349-1361.\n"
   ]
  },
  {
   "cell_type": "code",
   "execution_count": 5,
   "metadata": {
    "collapsed": false,
    "jupyter": {
     "outputs_hidden": false
    }
   },
   "outputs": [],
   "source": [
    "import numpy as np\n",
    "import matplotlib.pyplot as plt\n",
    "\n",
    "from UQpy.run_model.RunModel import RunModel\n",
    "from UQpy.run_model.model_execution.PythonModel import PythonModel\n",
    "from UQpy.distributions import Normal\n",
    "from UQpy.distributions.collection.JointIndependent import JointIndependent\n",
    "from UQpy.sensitivity.ChatterjeeSensitivity import ChatterjeeSensitivity\n",
    "from UQpy.sensitivity.CramerVonMisesSensitivity import CramerVonMisesSensitivity as cvm\n",
    "from UQpy.sensitivity.SobolSensitivity import SobolSensitivity\n",
    "from UQpy.sensitivity.PostProcess import *\n",
    "\n",
    "np.random.seed(123)"
   ]
  },
  {
   "cell_type": "markdown",
   "metadata": {},
   "source": [
    "**Define the model and input distributions**\n",
    "\n"
   ]
  },
  {
   "cell_type": "code",
   "execution_count": 6,
   "metadata": {
    "collapsed": false,
    "jupyter": {
     "outputs_hidden": false
    }
   },
   "outputs": [],
   "source": [
    "# Create Model object\n",
    "a, b = 1, 2\n",
    "\n",
    "model = PythonModel(\n",
    "    model_script=\"local_additive.py\",\n",
    "    model_object_name=\"evaluate\",\n",
    "    var_names=[\n",
    "        \"X_1\",\n",
    "        \"X_2\",\n",
    "    ],\n",
    "    delete_files=True,\n",
    "    params=[a, b],\n",
    ")\n",
    "\n",
    "runmodel_obj = RunModel(model=model)\n",
    "\n",
    "# Define distribution object\n",
    "dist_object = JointIndependent([Normal(0, 1)] * 2)"
   ]
  },
  {
   "cell_type": "markdown",
   "metadata": {},
   "source": [
    "**Compute Sobol indices**\n",
    "\n"
   ]
  },
  {
   "cell_type": "code",
   "execution_count": 7,
   "metadata": {
    "collapsed": false,
    "jupyter": {
     "outputs_hidden": false
    }
   },
   "outputs": [],
   "source": [
    "SA_sobol = SobolSensitivity(runmodel_obj, dist_object)\n",
    "\n",
    "SA_sobol.run(n_samples=50_000)"
   ]
  },
  {
   "cell_type": "markdown",
   "metadata": {},
   "source": [
    "**First order Sobol indices**\n",
    "\n",
    "Expected first order Sobol indices:\n",
    "\n",
    "$\\mathrm{S}_1 = \\frac{a^2 \\cdot \\mathbb{V}[X_1]}{a^2 \\cdot \\mathbb{V}[X_1] + b^2 \\cdot \\mathbb{V}[X_2]} = \\frac{1^2 \\cdot 1}{1^2 \\cdot 1 + 2^2 \\cdot 1} = 0.2$\n",
    "\n",
    "$\\mathrm{S}_2 = \\frac{b^2 \\cdot \\mathbb{V}[X_2]}{a^2 \\cdot \\mathbb{V}[X_1] + b^2 \\cdot \\mathbb{V}[X_2]} = \\frac{2^2 \\cdot 1}{1^2 \\cdot 1 + 2^2 \\cdot 1} = 0.8$\n",
    "\n"
   ]
  },
  {
   "cell_type": "code",
   "execution_count": 8,
   "metadata": {
    "collapsed": false,
    "jupyter": {
     "outputs_hidden": false
    }
   },
   "outputs": [
    {
     "data": {
      "text/plain": [
       "array([[0.19403013],\n",
       "       [0.80059683]])"
      ]
     },
     "execution_count": 8,
     "metadata": {},
     "output_type": "execute_result"
    }
   ],
   "source": [
    "SA_sobol.first_order_indices"
   ]
  },
  {
   "cell_type": "markdown",
   "metadata": {},
   "source": [
    "**Compute Chatterjee indices**\n",
    "\n"
   ]
  },
  {
   "cell_type": "code",
   "execution_count": 9,
   "metadata": {
    "collapsed": false,
    "jupyter": {
     "outputs_hidden": false
    }
   },
   "outputs": [],
   "source": [
    "SA_chatterjee = ChatterjeeSensitivity(runmodel_obj, dist_object)\n",
    "\n",
    "SA_chatterjee.run(n_samples=50_000)"
   ]
  },
  {
   "cell_type": "code",
   "execution_count": 10,
   "metadata": {
    "collapsed": false,
    "jupyter": {
     "outputs_hidden": false
    }
   },
   "outputs": [
    {
     "data": {
      "text/plain": [
       "array([[0.11439943],\n",
       "       [0.56937622]])"
      ]
     },
     "execution_count": 10,
     "metadata": {},
     "output_type": "execute_result"
    }
   ],
   "source": [
    "SA_chatterjee.first_order_chatterjee_indices"
   ]
  },
  {
   "cell_type": "code",
   "execution_count": 11,
   "metadata": {
    "collapsed": false,
    "jupyter": {
     "outputs_hidden": false
    }
   },
   "outputs": [],
   "source": [
    "SA_cvm = cvm(runmodel_obj, dist_object)\n",
    "\n",
    "# Compute CVM indices using the pick and freeze algorithm\n",
    "SA_cvm.run(n_samples=20_000, estimate_sobol_indices=True)"
   ]
  },
  {
   "cell_type": "code",
   "execution_count": 12,
   "metadata": {
    "collapsed": false,
    "jupyter": {
     "outputs_hidden": false
    }
   },
   "outputs": [
    {
     "data": {
      "text/plain": [
       "array([[0.10696542],\n",
       "       [0.57198283]])"
      ]
     },
     "execution_count": 12,
     "metadata": {},
     "output_type": "execute_result"
    }
   ],
   "source": [
    "SA_cvm.first_order_CramerVonMises_indices"
   ]
  },
  {
   "cell_type": "markdown",
   "metadata": {},
   "source": [
    "**Plot all indices**\n",
    "\n"
   ]
  },
  {
   "cell_type": "code",
   "execution_count": 13,
   "metadata": {
    "collapsed": false,
    "jupyter": {
     "outputs_hidden": false
    }
   },
   "outputs": [
    {
     "data": {
      "image/png": "[encoded data removed]",
      "text/plain": [
       "<Figure size 640x480 with 1 Axes>"
      ]
     },
     "metadata": {},
     "output_type": "display_data"
    }
   ],
   "source": [
    "num_vars = 2\n",
    "_idx = np.arange(num_vars)\n",
    "variable_names = [r\"$X_{}$\".format(i + 1) for i in range(num_vars)]\n",
    "\n",
    "# round to 2 decimal places\n",
    "indices_1 = np.around(SA_sobol.first_order_indices[:, 0], decimals=2)\n",
    "indices_2 = np.around(SA_chatterjee.first_order_chatterjee_indices[:, 0], decimals=2)\n",
    "indices_3 = np.around(SA_cvm.first_order_CramerVonMises_indices[:, 0], decimals=2)\n",
    "\n",
    "fig, ax = plt.subplots()\n",
    "width = 0.3\n",
    "ax.spines[\"top\"].set_visible(False)\n",
    "ax.spines[\"right\"].set_visible(False)\n",
    "\n",
    "bar_indices_1 = ax.bar(\n",
    "    _idx - width,  # x-axis\n",
    "    indices_1,  # y-axis\n",
    "    width=width,  # bar width\n",
    "    color=\"C0\",  # bar color\n",
    "    # alpha=0.5,  # bar transparency\n",
    "    label=\"Sobol\",  # bar label\n",
    "    ecolor=\"k\",  # error bar color\n",
    "    capsize=5,  # error bar cap size in pt\n",
    ")\n",
    "\n",
    "bar_indices_2 = ax.bar(\n",
    "    _idx,  # x-axis\n",
    "    indices_2,  # y-axis\n",
    "    width=width,  # bar width\n",
    "    color=\"C2\",  # bar color\n",
    "    # alpha=0.5,  # bar transparency\n",
    "    label=\"Chatterjee\",  # bar label\n",
    "    ecolor=\"k\",  # error bar color\n",
    "    capsize=5,  # error bar cap size in pt\n",
    ")\n",
    "\n",
    "bar_indices_3 = ax.bar(\n",
    "    _idx + width,  # x-axis\n",
    "    indices_3,  # y-axis\n",
    "    width=width,  # bar width\n",
    "    color=\"C3\",  # bar color\n",
    "    # alpha=0.5,  # bar transparency\n",
    "    label=\"Cramér-von Mises\",  # bar label\n",
    "    ecolor=\"k\",  # error bar color\n",
    "    capsize=5,  # error bar cap size in pt\n",
    ")\n",
    "\n",
    "ax.bar_label(bar_indices_1, label_type=\"edge\", fontsize=10)\n",
    "ax.bar_label(bar_indices_2, label_type=\"edge\", fontsize=10)\n",
    "ax.bar_label(bar_indices_3, label_type=\"edge\", fontsize=10)\n",
    "ax.set_xticks(_idx, variable_names)\n",
    "ax.set_xlabel(\"Model inputs\")\n",
    "ax.set_title(\"Comparison of sensitivity indices\")\n",
    "ax.set_ylim(top=1)  # set only upper limit of y to 1\n",
    "ax.legend()\n",
    "\n",
    "plt.show()"
   ]
  }
 ],
 "metadata": {
  "kernelspec": {
   "display_name": "Python 3 (ipykernel)",
   "language": "python",
   "name": "python3"
  },
  "language_info": {
   "codemirror_mode": {
    "name": "ipython",
    "version": 3
   },
   "file_extension": ".py",
   "mimetype": "text/x-python",
   "name": "python",
   "nbconvert_exporter": "python",
   "pygments_lexer": "ipython3",
   "version": "3.9.16"
  }
 },
 "nbformat": 4,
 "nbformat_minor": 4
}
